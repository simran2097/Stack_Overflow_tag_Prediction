{
  "nbformat": 4,
  "nbformat_minor": 0,
  "metadata": {
    "colab": {
      "name": "Stack_Overflow_tag_Prediction (1).ipynb",
      "provenance": [],
      "collapsed_sections": []
    },
    "kernelspec": {
      "display_name": "Python 3",
      "language": "python",
      "name": "python3"
    },
    "language_info": {
      "codemirror_mode": {
        "name": "ipython",
        "version": 3
      },
      "file_extension": ".py",
      "mimetype": "text/x-python",
      "name": "python",
      "nbconvert_exporter": "python",
      "pygments_lexer": "ipython3",
      "version": "3.7.3"
    }
  },
  "cells": [
    {
      "cell_type": "markdown",
      "metadata": {
        "colab_type": "text",
        "id": "U5Plrr2NU93P"
      },
      "source": [
        "<img src='images/pic1.jpg'/>"
      ]
    },
    {
      "cell_type": "code",
      "metadata": {
        "colab_type": "code",
        "id": "Ihs1Hb3RU93S",
        "colab": {}
      },
      "source": [
        "import warnings\n",
        "warnings.filterwarnings(\"ignore\")\n",
        "import pandas as pd\n",
        "import sqlite3\n",
        "import csv\n",
        "import matplotlib.pyplot as plt\n",
        "import seaborn as sns\n",
        "import numpy as np\n",
        "from wordcloud import WordCloud\n",
        "import re\n",
        "import os\n",
        "from sqlalchemy import create_engine # database connection\n",
        "import datetime as dt\n",
        "from nltk.corpus import stopwords\n",
        "from nltk.tokenize import word_tokenize\n",
        "from nltk.stem.snowball import SnowballStemmer\n",
        "from sklearn.feature_extraction.text import CountVectorizer\n",
        "from sklearn.feature_extraction.text import TfidfVectorizer\n",
        "from sklearn.multiclass import OneVsRestClassifier\n",
        "from sklearn.linear_model import SGDClassifier\n",
        "from sklearn import metrics\n",
        "from sklearn.metrics import f1_score,precision_score,recall_score\n",
        "from sklearn import svm\n",
        "from sklearn.linear_model import LogisticRegression\n",
        "from skmultilearn.adapt import mlknn\n",
        "from skmultilearn.problem_transform import ClassifierChain\n",
        "from skmultilearn.problem_transform import BinaryRelevance\n",
        "from skmultilearn.problem_transform import LabelPowerset\n",
        "from sklearn.naive_bayes import GaussianNB\n",
        "from datetime import datetime"
      ],
      "execution_count": 0,
      "outputs": []
    },
    {
      "cell_type": "markdown",
      "metadata": {
        "colab_type": "text",
        "id": "rAZDkLNPU93Y"
      },
      "source": [
        "# Stack Overflow: Tag Prediction"
      ]
    },
    {
      "cell_type": "markdown",
      "metadata": {
        "colab_type": "text",
        "id": "TpVk_usWU93a"
      },
      "source": [
        "<h1>1. Business Problem </h1>"
      ]
    },
    {
      "cell_type": "markdown",
      "metadata": {
        "colab_type": "text",
        "id": "5-1WlUboU93c"
      },
      "source": [
        "<h2> 1.1 Description </h2>"
      ]
    },
    {
      "cell_type": "markdown",
      "metadata": {
        "colab_type": "text",
        "id": "37SdsKLdU93e"
      },
      "source": [
        "<p style='font-size:18px'><b> Description </b></p>\n",
        "<p>\n",
        "Stack Overflow is the largest, most trusted online community for developers to learn, share their programming knowledge, and build their careers.<br />\n",
        "<br />\n",
        "Stack Overflow is something which every programmer use one way or another. Each month, over 50 million developers come to Stack Overflow to learn, share their knowledge, and build their careers. It features questions and answers on a wide range of topics in computer programming. The website serves as a platform for users to ask and answer questions, and, through membership and active participation, to vote questions and answers up or down and edit questions and answers in a fashion similar to a wiki or Digg. As of April 2014 Stack Overflow has over 4,000,000 registered users, and it exceeded 10,000,000 questions in late August 2015. Based on the type of tags assigned to questions, the top eight most discussed topics on the site are: Java, JavaScript, C#, PHP, Android, jQuery, Python and HTML.<br />\n",
        "<br />\n",
        "</p>"
      ]
    },
    {
      "cell_type": "markdown",
      "metadata": {
        "colab_type": "text",
        "id": "9brAMjUsU93f"
      },
      "source": [
        "<p style='font-size:18px'><b> Problem Statemtent </b></p>\n",
        "Suggest the tags based on the content that was there in the question posted on Stackoverflow."
      ]
    },
    {
      "cell_type": "markdown",
      "metadata": {
        "colab_type": "text",
        "id": "URJINSY2U93h"
      },
      "source": [
        "<p style='font-size:18px'><b> Source:  </b> https://www.kaggle.com/c/facebook-recruiting-iii-keyword-extraction/</p>\n"
      ]
    },
    {
      "cell_type": "markdown",
      "metadata": {
        "colab_type": "text",
        "id": "ggC_3T9XU93j"
      },
      "source": [
        "<h2> 1.2 Source / useful links </h2>"
      ]
    },
    {
      "cell_type": "markdown",
      "metadata": {
        "colab_type": "text",
        "id": "Nr7T9iknU93l"
      },
      "source": [
        "Data Source : https://www.kaggle.com/c/facebook-recruiting-iii-keyword-extraction/data <br>\n",
        "Youtube : https://youtu.be/nNDqbUhtIRg <br>\n",
        "Research paper : https://www.microsoft.com/en-us/research/wp-content/uploads/2016/02/tagging-1.pdf <br>\n",
        "Research paper : https://dl.acm.org/citation.cfm?id=2660970&dl=ACM&coll=DL"
      ]
    },
    {
      "cell_type": "markdown",
      "metadata": {
        "colab_type": "text",
        "id": "hbXm8lAuU93p"
      },
      "source": [
        "<h2> 1.3 Real World / Business Objectives and Constraints </h2>"
      ]
    },
    {
      "cell_type": "markdown",
      "metadata": {
        "colab_type": "text",
        "id": "88TwKPItU93q"
      },
      "source": [
        "1. Predict as many tags as possible with high precision and recall.\n",
        "2. Incorrect tags could impact customer experience on StackOverflow.\n",
        "3. No strict latency constraints."
      ]
    },
    {
      "cell_type": "markdown",
      "metadata": {
        "colab_type": "text",
        "id": "lE0wX1roU93s"
      },
      "source": [
        "<h1>2. Machine Learning problem </h1>"
      ]
    },
    {
      "cell_type": "markdown",
      "metadata": {
        "colab_type": "text",
        "id": "ynAszp_uU93u"
      },
      "source": [
        "<h2> 2.1 Data </h2>"
      ]
    },
    {
      "cell_type": "markdown",
      "metadata": {
        "colab_type": "text",
        "id": "elwijxMGU93w"
      },
      "source": [
        "<h3> 2.1.1 Data Overview </h3>"
      ]
    },
    {
      "cell_type": "markdown",
      "metadata": {
        "colab_type": "text",
        "id": "mdFiIj7_U93x"
      },
      "source": [
        "Refer: https://www.kaggle.com/c/facebook-recruiting-iii-keyword-extraction/data\n",
        "<br>\n",
        "All of the data is in 2 files: Train and Test.<br />\n",
        "<pre>\n",
        "<b>Train.csv</b> contains 4 columns: Id,Title,Body,Tags.<br />\n",
        "<b>Test.csv</b> contains the same columns but without the Tags, which you are to predict.<br />\n",
        "<b>Size of Train.csv</b> - 6.75GB<br />\n",
        "<b>Size of Test.csv</b> - 2GB<br />\n",
        "<b>Number of rows in Train.csv</b> = 6034195<br />\n",
        "</pre>\n",
        "The questions are randomized and contains a mix of verbose text sites as well as sites related to math and programming. The number of questions from each site may vary, and no filtering has been performed on the questions (such as closed questions).<br />\n",
        "<br />\n"
      ]
    },
    {
      "cell_type": "markdown",
      "metadata": {
        "colab_type": "text",
        "id": "Ji0A66hWU93z"
      },
      "source": [
        "__Data Field Explaination__\n",
        "\n",
        "Dataset contains 6,034,195 rows. The columns in the table are:<br />\n",
        "<pre>\n",
        "<b>Id</b> - Unique identifier for each question<br />\n",
        "<b>Title</b> - The question's title<br />\n",
        "<b>Body</b> - The body of the question<br />\n",
        "<b>Tags</b> - The tags associated with the question in a space-seperated format (all lowercase, should not contain tabs '\\t' or ampersands '&')<br />\n",
        "</pre>\n",
        "\n",
        "<br />"
      ]
    },
    {
      "cell_type": "markdown",
      "metadata": {
        "colab_type": "text",
        "id": "WNDiy42GU931"
      },
      "source": [
        "<h3>2.1.2 Example Data point </h3>"
      ]
    },
    {
      "cell_type": "markdown",
      "metadata": {
        "colab_type": "text",
        "collapsed": true,
        "id": "D5IcxRbYU932"
      },
      "source": [
        "<pre>\n",
        "<b>Title</b>:  Implementing Boundary Value Analysis of Software Testing in a C++ program?\n",
        "<b>Body </b>: <pre><code>\n",
        "        #include&lt;\n",
        "        iostream&gt;\\n\n",
        "        #include&lt;\n",
        "        stdlib.h&gt;\\n\\n\n",
        "        using namespace std;\\n\\n\n",
        "        int main()\\n\n",
        "        {\\n\n",
        "                 int n,a[n],x,c,u[n],m[n],e[n][4];\\n         \n",
        "                 cout&lt;&lt;\"Enter the number of variables\";\\n         cin&gt;&gt;n;\\n\\n         \n",
        "                 cout&lt;&lt;\"Enter the Lower, and Upper Limits of the variables\";\\n         \n",
        "                 for(int y=1; y&lt;n+1; y++)\\n         \n",
        "                 {\\n                 \n",
        "                    cin&gt;&gt;m[y];\\n                 \n",
        "                    cin&gt;&gt;u[y];\\n         \n",
        "                 }\\n         \n",
        "                 for(x=1; x&lt;n+1; x++)\\n         \n",
        "                 {\\n                 \n",
        "                    a[x] = (m[x] + u[x])/2;\\n         \n",
        "                 }\\n         \n",
        "                 c=(n*4)-4;\\n         \n",
        "                 for(int a1=1; a1&lt;n+1; a1++)\\n         \n",
        "                 {\\n\\n             \n",
        "                    e[a1][0] = m[a1];\\n             \n",
        "                    e[a1][1] = m[a1]+1;\\n             \n",
        "                    e[a1][2] = u[a1]-1;\\n             \n",
        "                    e[a1][3] = u[a1];\\n         \n",
        "                 }\\n         \n",
        "                 for(int i=1; i&lt;n+1; i++)\\n         \n",
        "                 {\\n            \n",
        "                    for(int l=1; l&lt;=i; l++)\\n            \n",
        "                    {\\n                 \n",
        "                        if(l!=1)\\n                 \n",
        "                        {\\n                    \n",
        "                            cout&lt;&lt;a[l]&lt;&lt;\"\\\\t\";\\n                 \n",
        "                        }\\n            \n",
        "                    }\\n            \n",
        "                    for(int j=0; j&lt;4; j++)\\n            \n",
        "                    {\\n                \n",
        "                        cout&lt;&lt;e[i][j];\\n                \n",
        "                        for(int k=0; k&lt;n-(i+1); k++)\\n                \n",
        "                        {\\n                    \n",
        "                            cout&lt;&lt;a[k]&lt;&lt;\"\\\\t\";\\n               \n",
        "                        }\\n                \n",
        "                        cout&lt;&lt;\"\\\\n\";\\n            \n",
        "                    }\\n        \n",
        "                 }    \\n\\n        \n",
        "                 system(\"PAUSE\");\\n        \n",
        "                 return 0;    \\n\n",
        "        }\\n\n",
        "        </code></pre>\\n\\n\n",
        "        <p>The answer should come in the form of a table like</p>\\n\\n\n",
        "        <pre><code>       \n",
        "        1            50              50\\n       \n",
        "        2            50              50\\n       \n",
        "        99           50              50\\n       \n",
        "        100          50              50\\n       \n",
        "        50           1               50\\n       \n",
        "        50           2               50\\n       \n",
        "        50           99              50\\n       \n",
        "        50           100             50\\n       \n",
        "        50           50              1\\n       \n",
        "        50           50              2\\n       \n",
        "        50           50              99\\n       \n",
        "        50           50              100\\n\n",
        "        </code></pre>\\n\\n\n",
        "        <p>if the no of inputs is 3 and their ranges are\\n\n",
        "        1,100\\n\n",
        "        1,100\\n\n",
        "        1,100\\n\n",
        "        (could be varied too)</p>\\n\\n\n",
        "        <p>The output is not coming,can anyone correct the code or tell me what\\'s wrong?</p>\\n'\n",
        "<b>Tags </b>: 'c++ c'\n",
        "</pre>"
      ]
    },
    {
      "cell_type": "markdown",
      "metadata": {
        "colab_type": "text",
        "id": "MomJjFPnU934"
      },
      "source": [
        "<h2>2.2 Mapping the real-world problem to a Machine Learning Problem </h2>"
      ]
    },
    {
      "cell_type": "markdown",
      "metadata": {
        "colab_type": "text",
        "id": "sJ5lyxIUU936"
      },
      "source": [
        "<h3> 2.2.1 Type of Machine Learning Problem </h3>"
      ]
    },
    {
      "cell_type": "markdown",
      "metadata": {
        "colab_type": "text",
        "id": "5Jb9u-38U938"
      },
      "source": [
        "<p> It is a multi-label classification problem  <br>\n",
        "<b>Multi-label Classification</b>: Multilabel classification assigns to each sample a set of target labels. This can be thought as predicting properties of a data-point that are not mutually exclusive, such as topics that are relevant for a document. A question on Stackoverflow might be about any of C, Pointers, FileIO and/or memory-management at the same time or none of these. <br>\n",
        "__Credit__: http://scikit-learn.org/stable/modules/multiclass.html\n",
        "</p>"
      ]
    },
    {
      "cell_type": "markdown",
      "metadata": {
        "colab_type": "text",
        "id": "QIOwycKkU93_"
      },
      "source": [
        "<h3>2.2.2 Performance metric </h3>"
      ]
    },
    {
      "cell_type": "markdown",
      "metadata": {
        "colab_type": "text",
        "id": "DDQXZ4k5U94A"
      },
      "source": [
        "<b>Micro-Averaged F1-Score (Mean F Score) </b>: \n",
        "The F1 score can be interpreted as a weighted average of the precision and recall, where an F1 score reaches its best value at 1 and worst score at 0. The relative contribution of precision and recall to the F1 score are equal. The formula for the F1 score is:\n",
        "\n",
        "<i>F1 = 2 * (precision * recall) / (precision + recall)</i><br>\n",
        "\n",
        "In the multi-class and multi-label case, this is the weighted average of the F1 score of each class. <br>\n",
        "\n",
        "<b>'Micro f1 score': </b><br>\n",
        "Calculate metrics globally by counting the total true positives, false negatives and false positives. This is a better metric when we have class imbalance.\n",
        "<br>\n",
        "\n",
        "<b>'Macro f1 score': </b><br>\n",
        "Calculate metrics for each label, and find their unweighted mean. This does not take label imbalance into account.\n",
        "<br>\n",
        "\n",
        "https://www.kaggle.com/wiki/MeanFScore <br>\n",
        "http://scikit-learn.org/stable/modules/generated/sklearn.metrics.f1_score.html <br>\n",
        "<br>\n",
        "<b> Hamming loss </b>: The Hamming loss is the fraction of labels that are incorrectly predicted. <br>\n",
        "https://www.kaggle.com/wiki/HammingLoss <br>"
      ]
    },
    {
      "cell_type": "markdown",
      "metadata": {
        "colab_type": "text",
        "id": "xqsVRjSmU94C"
      },
      "source": [
        "<h1> 3. Exploratory Data Analysis </h1>"
      ]
    },
    {
      "cell_type": "markdown",
      "metadata": {
        "colab_type": "text",
        "id": "azda-BmRU94H"
      },
      "source": [
        "<h2> 3.1 Data Loading and Cleaning </h2>"
      ]
    },
    {
      "cell_type": "markdown",
      "metadata": {
        "colab_type": "text",
        "id": "62GDC_VjU94J"
      },
      "source": [
        "<h3>3.1.1 Using Pandas with SQLite to Load the data</h3>"
      ]
    },
    {
      "cell_type": "code",
      "metadata": {
        "colab_type": "code",
        "id": "289tS71cU94L",
        "colab": {}
      },
      "source": [
        "#Creating db file from csv\n",
        "#Learn SQL: https://www.w3schools.com/sql/default.asp\n",
        "if not os.path.isfile('train.db'):\n",
        "    start = datetime.now()\n",
        "    disk_engine = create_engine('sqlite:///train.db')\n",
        "    start = dt.datetime.now()\n",
        "    chunksize = 180000\n",
        "    j = 0\n",
        "    index_start = 1\n",
        "    for df in pd.read_csv(r'C:\\Users\\Dell\\Desktop\\Train.csv', names=['Id', 'Title', 'Body', 'Tags'], chunksize=chunksize, iterator=True, encoding='utf-8', ):\n",
        "        df.index += index_start\n",
        "        j+=1\n",
        "        print('{} rows'.format(j*chunksize))\n",
        "        df.to_sql('data', disk_engine, if_exists='append')\n",
        "        index_start = df.index[-1] + 1\n",
        "    print(\"Time taken to run this cell :\", datetime.now() - start)"
      ],
      "execution_count": 0,
      "outputs": []
    },
    {
      "cell_type": "markdown",
      "metadata": {
        "colab_type": "text",
        "id": "d5yUhXVNU94Q"
      },
      "source": [
        "<h3> 3.1.2 Counting the number of rows </h3>"
      ]
    },
    {
      "cell_type": "code",
      "metadata": {
        "colab_type": "code",
        "id": "3ORCclXYU94R",
        "outputId": "9625d8e0-bf34-413e-8246-932fa1cb21b7",
        "colab": {}
      },
      "source": [
        "if os.path.isfile('train.db'):\n",
        "    start = datetime.now()\n",
        "    con = sqlite3.connect('train.db')\n",
        "    num_rows = pd.read_sql_query(\"\"\"SELECT count(*) FROM data\"\"\", con)\n",
        "    #Always remember to close the database\n",
        "    print(\"Number of rows in the database :\",\"\\n\",num_rows['count(*)'].values[0])\n",
        "    con.close()\n",
        "    print(\"Time taken to count the number of rows :\", datetime.now() - start)\n",
        "else:\n",
        "    print(\"Please download the train.db file from drive or run the above cell to genarate train.db file\")"
      ],
      "execution_count": 0,
      "outputs": [
        {
          "output_type": "stream",
          "text": [
            "Number of rows in the database : \n",
            " 6034196\n",
            "Time taken to count the number of rows : 0:00:03.673845\n"
          ],
          "name": "stdout"
        }
      ]
    },
    {
      "cell_type": "markdown",
      "metadata": {
        "colab_type": "text",
        "id": "Xso2eOEvU94Z"
      },
      "source": [
        "<h3>3.1.3 Checking for duplicates </h3>"
      ]
    },
    {
      "cell_type": "code",
      "metadata": {
        "colab_type": "code",
        "id": "iBHCcr3DU94b",
        "outputId": "2340d414-8570-4d7e-fda6-a69c39f13780",
        "colab": {}
      },
      "source": [
        "#Learn SQl: https://www.w3schools.com/sql/default.asp\n",
        "if os.path.isfile('train.db'):\n",
        "    start = datetime.now()\n",
        "    con = sqlite3.connect('train.db')\n",
        "    df_no_dup = pd.read_sql_query('SELECT Title, Body, Tags, COUNT(*) as cnt_dup FROM data GROUP BY Title, Body, Tags', con)\n",
        "    con.close()\n",
        "    print(\"Time taken to run this cell :\", datetime.now() - start)\n",
        "else:\n",
        "    print(\"Please download the train.db file from drive or run the first to genarate train.db file\")"
      ],
      "execution_count": 0,
      "outputs": [
        {
          "output_type": "stream",
          "text": [
            "Time taken to run this cell : 0:06:01.539425\n"
          ],
          "name": "stdout"
        }
      ]
    },
    {
      "cell_type": "code",
      "metadata": {
        "colab_type": "code",
        "id": "Gap4NRPWU94h",
        "outputId": "e0af72d7-4faf-4232-849b-d27bc1963221",
        "colab": {}
      },
      "source": [
        "df_no_dup.head()\n",
        "# we can observe that there are duplicates"
      ],
      "execution_count": 0,
      "outputs": [
        {
          "output_type": "execute_result",
          "data": {
            "text/html": [
              "<div>\n",
              "<style scoped>\n",
              "    .dataframe tbody tr th:only-of-type {\n",
              "        vertical-align: middle;\n",
              "    }\n",
              "\n",
              "    .dataframe tbody tr th {\n",
              "        vertical-align: top;\n",
              "    }\n",
              "\n",
              "    .dataframe thead th {\n",
              "        text-align: right;\n",
              "    }\n",
              "</style>\n",
              "<table border=\"1\" class=\"dataframe\">\n",
              "  <thead>\n",
              "    <tr style=\"text-align: right;\">\n",
              "      <th></th>\n",
              "      <th>Title</th>\n",
              "      <th>Body</th>\n",
              "      <th>Tags</th>\n",
              "      <th>cnt_dup</th>\n",
              "    </tr>\n",
              "  </thead>\n",
              "  <tbody>\n",
              "    <tr>\n",
              "      <th>0</th>\n",
              "      <td>Implementing Boundary Value Analysis of S...</td>\n",
              "      <td>&lt;pre&gt;&lt;code&gt;#include&amp;lt;iostream&amp;gt;\\n#include&amp;...</td>\n",
              "      <td>c++ c</td>\n",
              "      <td>1</td>\n",
              "    </tr>\n",
              "    <tr>\n",
              "      <th>1</th>\n",
              "      <td>Dynamic Datagrid Binding in Silverlight?</td>\n",
              "      <td>&lt;p&gt;I should do binding for datagrid dynamicall...</td>\n",
              "      <td>c# silverlight data-binding</td>\n",
              "      <td>1</td>\n",
              "    </tr>\n",
              "    <tr>\n",
              "      <th>2</th>\n",
              "      <td>Dynamic Datagrid Binding in Silverlight?</td>\n",
              "      <td>&lt;p&gt;I should do binding for datagrid dynamicall...</td>\n",
              "      <td>c# silverlight data-binding columns</td>\n",
              "      <td>1</td>\n",
              "    </tr>\n",
              "    <tr>\n",
              "      <th>3</th>\n",
              "      <td>java.lang.NoClassDefFoundError: javax/serv...</td>\n",
              "      <td>&lt;p&gt;I followed the guide in &lt;a href=\"http://sta...</td>\n",
              "      <td>jsp jstl</td>\n",
              "      <td>1</td>\n",
              "    </tr>\n",
              "    <tr>\n",
              "      <th>4</th>\n",
              "      <td>java.sql.SQLException:[Microsoft][ODBC Dri...</td>\n",
              "      <td>&lt;p&gt;I use the following code&lt;/p&gt;\\n\\n&lt;pre&gt;&lt;code&gt;...</td>\n",
              "      <td>java jdbc</td>\n",
              "      <td>2</td>\n",
              "    </tr>\n",
              "  </tbody>\n",
              "</table>\n",
              "</div>"
            ],
            "text/plain": [
              "                                               Title  \\\n",
              "0       Implementing Boundary Value Analysis of S...   \n",
              "1           Dynamic Datagrid Binding in Silverlight?   \n",
              "2           Dynamic Datagrid Binding in Silverlight?   \n",
              "3      java.lang.NoClassDefFoundError: javax/serv...   \n",
              "4      java.sql.SQLException:[Microsoft][ODBC Dri...   \n",
              "\n",
              "                                                Body  \\\n",
              "0  <pre><code>#include&lt;iostream&gt;\\n#include&...   \n",
              "1  <p>I should do binding for datagrid dynamicall...   \n",
              "2  <p>I should do binding for datagrid dynamicall...   \n",
              "3  <p>I followed the guide in <a href=\"http://sta...   \n",
              "4  <p>I use the following code</p>\\n\\n<pre><code>...   \n",
              "\n",
              "                                  Tags  cnt_dup  \n",
              "0                                c++ c        1  \n",
              "1          c# silverlight data-binding        1  \n",
              "2  c# silverlight data-binding columns        1  \n",
              "3                             jsp jstl        1  \n",
              "4                            java jdbc        2  "
            ]
          },
          "metadata": {
            "tags": []
          },
          "execution_count": 6
        }
      ]
    },
    {
      "cell_type": "code",
      "metadata": {
        "colab_type": "code",
        "id": "JzFO4EeDU94n",
        "outputId": "198980b2-6480-4a49-ab0a-8074199f5edb",
        "colab": {}
      },
      "source": [
        "print(\"number of duplicate questions :\", num_rows['count(*)'].values[0]- df_no_dup.shape[0], \"(\",(1-((df_no_dup.shape[0])/(num_rows['count(*)'].values[0])))*100,\"% )\")"
      ],
      "execution_count": 0,
      "outputs": [
        {
          "output_type": "stream",
          "text": [
            "number of duplicate questions : 1827881 ( 30.292038906260256 % )\n"
          ],
          "name": "stdout"
        }
      ]
    },
    {
      "cell_type": "code",
      "metadata": {
        "colab_type": "code",
        "id": "gd2VdpN6U94t",
        "outputId": "05af061e-31e0-4a93-d41a-d738c5b9e890",
        "colab": {}
      },
      "source": [
        "# number of times each question appeared in our database\n",
        "df_no_dup.cnt_dup.value_counts()"
      ],
      "execution_count": 0,
      "outputs": [
        {
          "output_type": "execute_result",
          "data": {
            "text/plain": [
              "1    2656284\n",
              "2    1272336\n",
              "3     277575\n",
              "4         90\n",
              "5         25\n",
              "6          5\n",
              "Name: cnt_dup, dtype: int64"
            ]
          },
          "metadata": {
            "tags": []
          },
          "execution_count": 8
        }
      ]
    },
    {
      "cell_type": "code",
      "metadata": {
        "id": "pQ8SVhGeoyxr",
        "colab_type": "code",
        "colab": {}
      },
      "source": [
        "df_no_dup.dropna(how='any',axis=0,inplace=True)"
      ],
      "execution_count": 0,
      "outputs": []
    },
    {
      "cell_type": "code",
      "metadata": {
        "colab_type": "code",
        "id": "EogeNAhCU94z",
        "outputId": "661010f0-0d38-4a33-d20f-e94ef51344ab",
        "colab": {}
      },
      "source": [
        "start = datetime.now()\n",
        "df_no_dup[\"tag_count\"] = df_no_dup[\"Tags\"].apply(lambda text: len(text.split(\" \")))\n",
        "# adding a new feature number of tags per question\n",
        "print(\"Time taken to run this cell :\", datetime.now() - start)\n",
        "df_no_dup.head()"
      ],
      "execution_count": 0,
      "outputs": [
        {
          "output_type": "stream",
          "text": [
            "Time taken to run this cell : 0:00:04.738069\n"
          ],
          "name": "stdout"
        },
        {
          "output_type": "execute_result",
          "data": {
            "text/html": [
              "<div>\n",
              "<style scoped>\n",
              "    .dataframe tbody tr th:only-of-type {\n",
              "        vertical-align: middle;\n",
              "    }\n",
              "\n",
              "    .dataframe tbody tr th {\n",
              "        vertical-align: top;\n",
              "    }\n",
              "\n",
              "    .dataframe thead th {\n",
              "        text-align: right;\n",
              "    }\n",
              "</style>\n",
              "<table border=\"1\" class=\"dataframe\">\n",
              "  <thead>\n",
              "    <tr style=\"text-align: right;\">\n",
              "      <th></th>\n",
              "      <th>Title</th>\n",
              "      <th>Body</th>\n",
              "      <th>Tags</th>\n",
              "      <th>cnt_dup</th>\n",
              "      <th>tag_count</th>\n",
              "    </tr>\n",
              "  </thead>\n",
              "  <tbody>\n",
              "    <tr>\n",
              "      <th>0</th>\n",
              "      <td>Implementing Boundary Value Analysis of S...</td>\n",
              "      <td>&lt;pre&gt;&lt;code&gt;#include&amp;lt;iostream&amp;gt;\\n#include&amp;...</td>\n",
              "      <td>c++ c</td>\n",
              "      <td>1</td>\n",
              "      <td>2</td>\n",
              "    </tr>\n",
              "    <tr>\n",
              "      <th>1</th>\n",
              "      <td>Dynamic Datagrid Binding in Silverlight?</td>\n",
              "      <td>&lt;p&gt;I should do binding for datagrid dynamicall...</td>\n",
              "      <td>c# silverlight data-binding</td>\n",
              "      <td>1</td>\n",
              "      <td>3</td>\n",
              "    </tr>\n",
              "    <tr>\n",
              "      <th>2</th>\n",
              "      <td>Dynamic Datagrid Binding in Silverlight?</td>\n",
              "      <td>&lt;p&gt;I should do binding for datagrid dynamicall...</td>\n",
              "      <td>c# silverlight data-binding columns</td>\n",
              "      <td>1</td>\n",
              "      <td>4</td>\n",
              "    </tr>\n",
              "    <tr>\n",
              "      <th>3</th>\n",
              "      <td>java.lang.NoClassDefFoundError: javax/serv...</td>\n",
              "      <td>&lt;p&gt;I followed the guide in &lt;a href=\"http://sta...</td>\n",
              "      <td>jsp jstl</td>\n",
              "      <td>1</td>\n",
              "      <td>2</td>\n",
              "    </tr>\n",
              "    <tr>\n",
              "      <th>4</th>\n",
              "      <td>java.sql.SQLException:[Microsoft][ODBC Dri...</td>\n",
              "      <td>&lt;p&gt;I use the following code&lt;/p&gt;\\n\\n&lt;pre&gt;&lt;code&gt;...</td>\n",
              "      <td>java jdbc</td>\n",
              "      <td>2</td>\n",
              "      <td>2</td>\n",
              "    </tr>\n",
              "  </tbody>\n",
              "</table>\n",
              "</div>"
            ],
            "text/plain": [
              "                                               Title  \\\n",
              "0       Implementing Boundary Value Analysis of S...   \n",
              "1           Dynamic Datagrid Binding in Silverlight?   \n",
              "2           Dynamic Datagrid Binding in Silverlight?   \n",
              "3      java.lang.NoClassDefFoundError: javax/serv...   \n",
              "4      java.sql.SQLException:[Microsoft][ODBC Dri...   \n",
              "\n",
              "                                                Body  \\\n",
              "0  <pre><code>#include&lt;iostream&gt;\\n#include&...   \n",
              "1  <p>I should do binding for datagrid dynamicall...   \n",
              "2  <p>I should do binding for datagrid dynamicall...   \n",
              "3  <p>I followed the guide in <a href=\"http://sta...   \n",
              "4  <p>I use the following code</p>\\n\\n<pre><code>...   \n",
              "\n",
              "                                  Tags  cnt_dup  tag_count  \n",
              "0                                c++ c        1          2  \n",
              "1          c# silverlight data-binding        1          3  \n",
              "2  c# silverlight data-binding columns        1          4  \n",
              "3                             jsp jstl        1          2  \n",
              "4                            java jdbc        2          2  "
            ]
          },
          "metadata": {
            "tags": []
          },
          "execution_count": 10
        }
      ]
    },
    {
      "cell_type": "code",
      "metadata": {
        "colab_type": "code",
        "id": "iItMHo6MU948",
        "outputId": "824508df-c0c0-4d33-a667-83af84360bfc",
        "colab": {}
      },
      "source": [
        "# distribution of number of tags per question\n",
        "df_no_dup.tag_count.value_counts()"
      ],
      "execution_count": 0,
      "outputs": [
        {
          "output_type": "execute_result",
          "data": {
            "text/plain": [
              "3    1206157\n",
              "2    1111706\n",
              "4     814996\n",
              "1     568291\n",
              "5     505158\n",
              "Name: tag_count, dtype: int64"
            ]
          },
          "metadata": {
            "tags": []
          },
          "execution_count": 11
        }
      ]
    },
    {
      "cell_type": "code",
      "metadata": {
        "colab_type": "code",
        "id": "2xMgCGUKU95C",
        "colab": {}
      },
      "source": [
        "#Creating a new database with no duplicates\n",
        "if not os.path.isfile('train_no_dup.db'):\n",
        "    disk_dup = create_engine(\"sqlite:///train_no_dup.db\")\n",
        "    no_dup = pd.DataFrame(df_no_dup, columns=['Title', 'Body', 'Tags'])\n",
        "    no_dup.to_sql('no_dup_train',disk_dup)"
      ],
      "execution_count": 0,
      "outputs": []
    },
    {
      "cell_type": "code",
      "metadata": {
        "colab_type": "code",
        "id": "6Ou53MzeU95H",
        "outputId": "0b643de8-3481-45d0-ff2e-8400f7f5f12b",
        "colab": {}
      },
      "source": [
        "#This method seems more appropriate to work with this much data.\n",
        "#creating the connection with database file.\n",
        "if os.path.isfile('train_no_dup.db'):\n",
        "    start = datetime.now()\n",
        "    con = sqlite3.connect('train_no_dup.db')\n",
        "    tag_data = pd.read_sql_query(\"\"\"SELECT Tags FROM no_dup_train\"\"\", con)\n",
        "    #Always remember to close the database\n",
        "    con.close()\n",
        "\n",
        "    # Let's now drop unwanted column.\n",
        "    tag_data.drop(tag_data.index[0], inplace=True)\n",
        "    #Printing first 5 columns from our data frame\n",
        "    tag_data.head()\n",
        "    print(\"Time taken to run this cell :\", datetime.now() - start)\n",
        "else:\n",
        "    print(\"Please download the train.db file from drive or run the above cells to genarate train.db file\")"
      ],
      "execution_count": 0,
      "outputs": [
        {
          "output_type": "stream",
          "text": [
            "Time taken to run this cell : 0:00:24.571580\n"
          ],
          "name": "stdout"
        }
      ]
    },
    {
      "cell_type": "markdown",
      "metadata": {
        "colab_type": "text",
        "id": "hwZVL3doU95O"
      },
      "source": [
        "<h2> 3.2 Analysis of Tags </h2>"
      ]
    },
    {
      "cell_type": "markdown",
      "metadata": {
        "colab_type": "text",
        "id": "zYs5peW8U95P"
      },
      "source": [
        "<h3> 3.2.1 Total number of unique tags </h3>"
      ]
    },
    {
      "cell_type": "code",
      "metadata": {
        "colab_type": "code",
        "id": "ROdC95M_U95Q",
        "colab": {}
      },
      "source": [
        "# Importing & Initializing the \"CountVectorizer\" object, which \n",
        "#is scikit-learn's bag of words tool.\n",
        "\n",
        "#by default 'split()' will tokenize each tag using space.\n",
        "vectorizer = CountVectorizer(tokenizer = lambda x: x.split())\n",
        "# fit_transform() does two functions: First, it fits the model\n",
        "# and learns the vocabulary; second, it transforms our training data\n",
        "# into feature vectors. The input to fit_transform should be a list of strings.\n",
        "tag_dtm = vectorizer.fit_transform(tag_data['Tags'])"
      ],
      "execution_count": 0,
      "outputs": []
    },
    {
      "cell_type": "code",
      "metadata": {
        "colab_type": "code",
        "id": "Oz5N0GH0U95V",
        "outputId": "a65cd48f-6df2-44f5-e77c-99b38bb7ae2a",
        "colab": {}
      },
      "source": [
        "print(\"Number of data points :\", tag_dtm.shape[0])\n",
        "print(\"Number of unique tags :\", tag_dtm.shape[1])"
      ],
      "execution_count": 0,
      "outputs": [
        {
          "output_type": "stream",
          "text": [
            "Number of data points : 4206307\n",
            "Number of unique tags : 42048\n"
          ],
          "name": "stdout"
        }
      ]
    },
    {
      "cell_type": "code",
      "metadata": {
        "colab_type": "code",
        "id": "Otn6CUuQU95b",
        "outputId": "91ff8093-ebae-4218-a786-a117a9eadc0e",
        "colab": {}
      },
      "source": [
        "#'get_feature_name()' gives us the vocabulary.\n",
        "tags = vectorizer.get_feature_names()\n",
        "#Lets look at the tags we have.\n",
        "print(\"Some of the tags we have :\", tags[:10])"
      ],
      "execution_count": 0,
      "outputs": [
        {
          "output_type": "stream",
          "text": [
            "Some of the tags we have : ['.a', '.app', '.asp.net-mvc', '.aspxauth', '.bash-profile', '.class-file', '.cs-file', '.doc', '.drv', '.ds-store']\n"
          ],
          "name": "stdout"
        }
      ]
    },
    {
      "cell_type": "markdown",
      "metadata": {
        "colab_type": "text",
        "id": "NQa3ETSeU95g"
      },
      "source": [
        "<h3> 3.2.3 Number of times a tag appeared </h3>"
      ]
    },
    {
      "cell_type": "code",
      "metadata": {
        "colab_type": "code",
        "id": "beThyuyqU95h",
        "colab": {}
      },
      "source": [
        "# https://stackoverflow.com/questions/15115765/how-to-access-sparse-matrix-elements\n",
        "#Lets now store the document term matrix in a dictionary.\n",
        "freqs = tag_dtm.sum(axis=0).A1\n",
        "result = dict(zip(tags, freqs))"
      ],
      "execution_count": 0,
      "outputs": []
    },
    {
      "cell_type": "code",
      "metadata": {
        "colab_type": "code",
        "id": "6ALwSSx9U95m",
        "outputId": "452a449b-5605-4c32-e571-961eee563161",
        "colab": {}
      },
      "source": [
        "#Saving this dictionary to csv files.\n",
        "if not os.path.isfile('tag_counts_dict_dtm.csv'):\n",
        "    with open('tag_counts_dict_dtm.csv', 'w') as csv_file:\n",
        "        writer = csv.writer(csv_file)\n",
        "        for key, value in result.items():\n",
        "            writer.writerow([key, value])\n",
        "tag_df = pd.read_csv(\"tag_counts_dict_dtm.csv\", names=['Tags', 'Counts'])\n",
        "tag_df.head()"
      ],
      "execution_count": 0,
      "outputs": [
        {
          "output_type": "execute_result",
          "data": {
            "text/html": [
              "<div>\n",
              "<style scoped>\n",
              "    .dataframe tbody tr th:only-of-type {\n",
              "        vertical-align: middle;\n",
              "    }\n",
              "\n",
              "    .dataframe tbody tr th {\n",
              "        vertical-align: top;\n",
              "    }\n",
              "\n",
              "    .dataframe thead th {\n",
              "        text-align: right;\n",
              "    }\n",
              "</style>\n",
              "<table border=\"1\" class=\"dataframe\">\n",
              "  <thead>\n",
              "    <tr style=\"text-align: right;\">\n",
              "      <th></th>\n",
              "      <th>Tags</th>\n",
              "      <th>Counts</th>\n",
              "    </tr>\n",
              "  </thead>\n",
              "  <tbody>\n",
              "    <tr>\n",
              "      <th>0</th>\n",
              "      <td>.a</td>\n",
              "      <td>18</td>\n",
              "    </tr>\n",
              "    <tr>\n",
              "      <th>1</th>\n",
              "      <td>.app</td>\n",
              "      <td>37</td>\n",
              "    </tr>\n",
              "    <tr>\n",
              "      <th>2</th>\n",
              "      <td>.asp.net-mvc</td>\n",
              "      <td>1</td>\n",
              "    </tr>\n",
              "    <tr>\n",
              "      <th>3</th>\n",
              "      <td>.aspxauth</td>\n",
              "      <td>21</td>\n",
              "    </tr>\n",
              "    <tr>\n",
              "      <th>4</th>\n",
              "      <td>.bash-profile</td>\n",
              "      <td>138</td>\n",
              "    </tr>\n",
              "  </tbody>\n",
              "</table>\n",
              "</div>"
            ],
            "text/plain": [
              "            Tags  Counts\n",
              "0             .a      18\n",
              "1           .app      37\n",
              "2   .asp.net-mvc       1\n",
              "3      .aspxauth      21\n",
              "4  .bash-profile     138"
            ]
          },
          "metadata": {
            "tags": []
          },
          "execution_count": 18
        }
      ]
    },
    {
      "cell_type": "code",
      "metadata": {
        "colab_type": "code",
        "id": "mzmS8yiNU95t",
        "colab": {}
      },
      "source": [
        "tag_df_sorted = tag_df.sort_values(['Counts'], ascending=False)\n",
        "tag_counts = tag_df_sorted['Counts'].values"
      ],
      "execution_count": 0,
      "outputs": []
    },
    {
      "cell_type": "code",
      "metadata": {
        "colab_type": "code",
        "id": "6mcj55FIU95z",
        "outputId": "d6c9d567-a9a4-48e6-9d44-6f099f198339",
        "colab": {}
      },
      "source": [
        "plt.plot(tag_counts)\n",
        "plt.title(\"Distribution of number of times tag appeared questions\")\n",
        "plt.grid()\n",
        "plt.xlabel(\"Tag number\")\n",
        "plt.ylabel(\"Number of times tag appeared\")\n",
        "plt.show()"
      ],
      "execution_count": 0,
      "outputs": [
        {
          "output_type": "display_data",
          "data": {
            "image/png": "[encoded data removed]",
            "text/plain": [
              "<Figure size 432x288 with 1 Axes>"
            ]
          },
          "metadata": {
            "tags": [],
            "needs_background": "light"
          }
        }
      ]
    },
    {
      "cell_type": "code",
      "metadata": {
        "colab_type": "code",
        "id": "UzTqln6XU955",
        "outputId": "07f08ef0-d26b-4797-eb3c-6586011e2588",
        "colab": {}
      },
      "source": [
        "plt.plot(tag_counts[0:10000])\n",
        "plt.title('first 10k tags: Distribution of number of times tag appeared questions')\n",
        "plt.grid()\n",
        "plt.xlabel(\"Tag number\")\n",
        "plt.ylabel(\"Number of times tag appeared\")\n",
        "plt.show()\n",
        "print(len(tag_counts[0:10000:25]), tag_counts[0:10000:25])"
      ],
      "execution_count": 0,
      "outputs": [
        {
          "output_type": "display_data",
          "data": {
            "image/png": "[encoded data removed]",
            "text/plain": [
              "<Figure size 432x288 with 1 Axes>"
            ]
          },
          "metadata": {
            "tags": [],
            "needs_background": "light"
          }
        },
        {
          "output_type": "stream",
          "text": [
            "400 [331505  44829  22429  17728  13364  11162  10029   9148   8054   7151\n",
            "   6466   5865   5370   4983   4526   4281   4144   3929   3750   3593\n",
            "   3453   3299   3123   2986   2891   2738   2647   2527   2431   2331\n",
            "   2259   2186   2097   2020   1959   1900   1828   1770   1723   1673\n",
            "   1631   1574   1532   1479   1448   1406   1365   1328   1300   1266\n",
            "   1245   1222   1197   1181   1158   1139   1121   1101   1076   1056\n",
            "   1038   1023   1006    983    966    952    938    926    911    891\n",
            "    882    869    856    841    830    816    804    789    779    770\n",
            "    752    743    733    725    712    702    688    678    671    658\n",
            "    650    643    634    627    616    607    598    589    583    577\n",
            "    568    559    552    545    540    533    526    518    512    506\n",
            "    500    495    490    485    480    477    469    465    457    450\n",
            "    447    442    437    432    426    422    418    413    408    403\n",
            "    398    393    388    385    381    378    374    370    367    365\n",
            "    361    357    354    350    347    344    342    339    336    332\n",
            "    330    326    323    319    315    312    309    307    304    301\n",
            "    299    296    293    291    289    286    284    281    278    276\n",
            "    275    272    270    268    265    262    260    258    256    254\n",
            "    252    250    249    247    245    243    241    239    238    236\n",
            "    234    233    232    230    228    226    224    222    220    219\n",
            "    217    215    214    212    210    209    207    205    204    203\n",
            "    201    200    199    198    196    194    193    192    191    189\n",
            "    188    186    185    183    182    181    180    179    178    177\n",
            "    175    174    172    171    170    169    168    167    166    165\n",
            "    164    162    161    160    159    158    157    156    156    155\n",
            "    154    153    152    151    150    149    149    148    147    146\n",
            "    145    144    143    142    142    141    140    139    138    137\n",
            "    137    136    135    134    134    133    132    131    130    130\n",
            "    129    128    128    127    126    126    125    124    124    123\n",
            "    123    122    122    121    120    120    119    118    118    117\n",
            "    117    116    116    115    115    114    113    113    112    111\n",
            "    111    110    109    109    108    108    107    106    106    106\n",
            "    105    105    104    104    103    103    102    102    101    101\n",
            "    100    100     99     99     98     98     97     97     96     96\n",
            "     95     95     94     94     93     93     93     92     92     91\n",
            "     91     90     90     89     89     88     88     87     87     86\n",
            "     86     86     85     85     84     84     83     83     83     82\n",
            "     82     82     81     81     80     80     80     79     79     78\n",
            "     78     78     78     77     77     76     76     76     75     75\n",
            "     75     74     74     74     73     73     73     73     72     72]\n"
          ],
          "name": "stdout"
        }
      ]
    },
    {
      "cell_type": "code",
      "metadata": {
        "colab_type": "code",
        "id": "Ntm8E_K9U95-",
        "outputId": "750edd11-e52b-46bd-caba-1835994a0e05",
        "colab": {}
      },
      "source": [
        "plt.plot(tag_counts[0:1000])\n",
        "plt.title('first 1k tags: Distribution of number of times tag appeared questions')\n",
        "plt.grid()\n",
        "plt.xlabel(\"Tag number\")\n",
        "plt.ylabel(\"Number of times tag appeared\")\n",
        "plt.show()\n",
        "print(len(tag_counts[0:1000:5]), tag_counts[0:1000:5])"
      ],
      "execution_count": 0,
      "outputs": [
        {
          "output_type": "display_data",
          "data": {
            "image/png": "[encoded data removed]",
            "text/plain": [
              "<Figure size 432x288 with 1 Axes>"
            ]
          },
          "metadata": {
            "tags": [],
            "needs_background": "light"
          }
        },
        {
          "output_type": "stream",
          "text": [
            "200 [331505 221533 122769  95160  62023  44829  37170  31897  26925  24537\n",
            "  22429  21820  20957  19758  18905  17728  15533  15097  14884  13703\n",
            "  13364  13157  12407  11658  11228  11162  10863  10600  10350  10224\n",
            "  10029   9884   9719   9411   9252   9148   9040   8617   8361   8163\n",
            "   8054   7867   7702   7564   7274   7151   7052   6847   6656   6553\n",
            "   6466   6291   6183   6093   5971   5865   5760   5577   5490   5411\n",
            "   5370   5283   5207   5107   5066   4983   4891   4785   4658   4549\n",
            "   4526   4487   4429   4335   4310   4281   4239   4228   4195   4159\n",
            "   4144   4088   4050   4002   3957   3929   3874   3849   3818   3797\n",
            "   3750   3703   3685   3658   3615   3593   3564   3521   3505   3483\n",
            "   3453   3427   3396   3363   3326   3299   3272   3232   3196   3168\n",
            "   3123   3094   3073   3050   3012   2986   2983   2953   2934   2903\n",
            "   2891   2844   2819   2784   2754   2738   2726   2708   2681   2669\n",
            "   2647   2621   2604   2594   2556   2527   2510   2482   2460   2444\n",
            "   2431   2409   2395   2380   2363   2331   2312   2297   2290   2281\n",
            "   2259   2246   2222   2211   2198   2186   2162   2142   2132   2107\n",
            "   2097   2078   2057   2045   2036   2020   2011   1994   1971   1965\n",
            "   1959   1952   1940   1932   1912   1900   1879   1865   1855   1841\n",
            "   1828   1821   1813   1801   1782   1770   1760   1747   1741   1734\n",
            "   1723   1707   1697   1688   1683   1673   1665   1656   1646   1639]\n"
          ],
          "name": "stdout"
        }
      ]
    },
    {
      "cell_type": "code",
      "metadata": {
        "colab_type": "code",
        "id": "-SRUeKuWU96I",
        "outputId": "f20a242c-2f7d-4e7d-f3f2-291d2ea38caa",
        "colab": {}
      },
      "source": [
        "plt.plot(tag_counts[0:500])\n",
        "plt.title('first 500 tags: Distribution of number of times tag appeared questions')\n",
        "plt.grid()\n",
        "plt.xlabel(\"Tag number\")\n",
        "plt.ylabel(\"Number of times tag appeared\")\n",
        "plt.show()\n",
        "print(len(tag_counts[0:500:5]), tag_counts[0:500:5])"
      ],
      "execution_count": 0,
      "outputs": [
        {
          "output_type": "display_data",
          "data": {
            "image/png": "[encoded data removed]",
            "text/plain": [
              "<Figure size 432x288 with 1 Axes>"
            ]
          },
          "metadata": {
            "tags": [],
            "needs_background": "light"
          }
        },
        {
          "output_type": "stream",
          "text": [
            "100 [331505 221533 122769  95160  62023  44829  37170  31897  26925  24537\n",
            "  22429  21820  20957  19758  18905  17728  15533  15097  14884  13703\n",
            "  13364  13157  12407  11658  11228  11162  10863  10600  10350  10224\n",
            "  10029   9884   9719   9411   9252   9148   9040   8617   8361   8163\n",
            "   8054   7867   7702   7564   7274   7151   7052   6847   6656   6553\n",
            "   6466   6291   6183   6093   5971   5865   5760   5577   5490   5411\n",
            "   5370   5283   5207   5107   5066   4983   4891   4785   4658   4549\n",
            "   4526   4487   4429   4335   4310   4281   4239   4228   4195   4159\n",
            "   4144   4088   4050   4002   3957   3929   3874   3849   3818   3797\n",
            "   3750   3703   3685   3658   3615   3593   3564   3521   3505   3483]\n"
          ],
          "name": "stdout"
        }
      ]
    },
    {
      "cell_type": "code",
      "metadata": {
        "colab_type": "code",
        "id": "CCOE0Nu4U96N",
        "outputId": "1f8df41e-b0dc-4d7f-a3b2-0a0c472ef448",
        "colab": {}
      },
      "source": [
        "plt.plot(tag_counts[0:100], c='b')\n",
        "plt.scatter(x=list(range(0,100,5)), y=tag_counts[0:100:5], c='orange', label=\"quantiles with 0.05 intervals\")\n",
        "# quantiles with 0.25 difference\n",
        "plt.scatter(x=list(range(0,100,25)), y=tag_counts[0:100:25], c='m', label = \"quantiles with 0.25 intervals\")\n",
        "\n",
        "for x,y in zip(list(range(0,100,25)), tag_counts[0:100:25]):\n",
        "    plt.annotate(s=\"({} , {})\".format(x,y), xy=(x,y), xytext=(x-0.05, y+500))\n",
        "\n",
        "plt.title('first 100 tags: Distribution of number of times tag appeared questions')\n",
        "plt.grid()\n",
        "plt.xlabel(\"Tag number\")\n",
        "plt.ylabel(\"Number of times tag appeared\")\n",
        "plt.legend()\n",
        "plt.show()\n",
        "print(len(tag_counts[0:100:5]), tag_counts[0:100:5])"
      ],
      "execution_count": 0,
      "outputs": [
        {
          "output_type": "display_data",
          "data": {
            "image/png": "[encoded data removed]",
            "text/plain": [
              "<Figure size 432x288 with 1 Axes>"
            ]
          },
          "metadata": {
            "tags": [],
            "needs_background": "light"
          }
        },
        {
          "output_type": "stream",
          "text": [
            "20 [331505 221533 122769  95160  62023  44829  37170  31897  26925  24537\n",
            "  22429  21820  20957  19758  18905  17728  15533  15097  14884  13703]\n"
          ],
          "name": "stdout"
        }
      ]
    },
    {
      "cell_type": "code",
      "metadata": {
        "colab_type": "code",
        "id": "MnwXytypU96R",
        "outputId": "3427f2fd-4b27-435e-d1a8-f1bcf4515d9c",
        "colab": {}
      },
      "source": [
        "# Store tags greater than 10K in one list\n",
        "lst_tags_gt_10k = tag_df[tag_df.Counts>10000].Tags\n",
        "#Print the length of the list\n",
        "print ('{} Tags are used more than 10000 times'.format(len(lst_tags_gt_10k)))\n",
        "# Store tags greater than 100K in one list\n",
        "lst_tags_gt_100k = tag_df[tag_df.Counts>100000].Tags\n",
        "#Print the length of the list.\n",
        "print ('{} Tags are used more than 100000 times'.format(len(lst_tags_gt_100k)))"
      ],
      "execution_count": 0,
      "outputs": [
        {
          "output_type": "stream",
          "text": [
            "153 Tags are used more than 10000 times\n",
            "14 Tags are used more than 100000 times\n"
          ],
          "name": "stdout"
        }
      ]
    },
    {
      "cell_type": "markdown",
      "metadata": {
        "colab_type": "text",
        "id": "oOXPF7q1U96W"
      },
      "source": [
        "<b>Observations:</b><br />\n",
        "1. There are total 153 tags which are used more than 10000 times.\n",
        "2. 14 tags are used more than 100000 times.\n",
        "3. Most frequent tag (i.e. c#) is used 331505 times.\n",
        "4. Since some tags occur much more frequenctly than others, Micro-averaged F1-score is the appropriate metric for this probelm."
      ]
    },
    {
      "cell_type": "markdown",
      "metadata": {
        "colab_type": "text",
        "id": "zb-Tg_sgU96a"
      },
      "source": [
        "<h3> 3.2.4 Tags Per Question </h3>"
      ]
    },
    {
      "cell_type": "code",
      "metadata": {
        "colab_type": "code",
        "id": "bsPStbjGU96g",
        "outputId": "2e57d47f-1ae9-4776-ab17-d4315b9d0c14",
        "colab": {}
      },
      "source": [
        "#Storing the count of tag in each question in list 'tag_count'\n",
        "tag_quest_count = tag_dtm.sum(axis=1).tolist()\n",
        "#Converting list of lists into single list, we will get [[3], [4], [2], [2], [3]] and we are converting this to [3, 4, 2, 2, 3]\n",
        "tag_quest_count=[int(j) for i in tag_quest_count for j in i]\n",
        "print ('We have total {} datapoints.'.format(len(tag_quest_count)))\n",
        "\n",
        "print(tag_quest_count[:5])"
      ],
      "execution_count": 0,
      "outputs": [
        {
          "output_type": "stream",
          "text": [
            "We have total 4206307 datapoints.\n",
            "[3, 4, 2, 2, 3]\n"
          ],
          "name": "stdout"
        }
      ]
    },
    {
      "cell_type": "code",
      "metadata": {
        "colab_type": "code",
        "id": "DLbm7crfU96n",
        "outputId": "f71ff030-9937-4081-9d4a-fb2c62386e11",
        "colab": {}
      },
      "source": [
        "print( \"Maximum number of tags per question: %d\"%max(tag_quest_count))\n",
        "print( \"Minimum number of tags per question: %d\"%min(tag_quest_count))\n",
        "print( \"Avg. number of tags per question: %f\"% ((sum(tag_quest_count)*1.0)/len(tag_quest_count)))"
      ],
      "execution_count": 0,
      "outputs": [
        {
          "output_type": "stream",
          "text": [
            "Maximum number of tags per question: 5\n",
            "Minimum number of tags per question: 1\n",
            "Avg. number of tags per question: 2.899443\n"
          ],
          "name": "stdout"
        }
      ]
    },
    {
      "cell_type": "code",
      "metadata": {
        "colab_type": "code",
        "id": "mb1vdd8KU96x",
        "outputId": "4579b7c7-ff27-4fb3-f3b9-29401610a3a0",
        "colab": {}
      },
      "source": [
        "sns.countplot(tag_quest_count, palette='gist_rainbow')\n",
        "plt.title(\"Number of tags in the questions \")\n",
        "plt.xlabel(\"Number of Tags\")\n",
        "plt.ylabel(\"Number of questions\")\n",
        "plt.show()"
      ],
      "execution_count": 0,
      "outputs": [
        {
          "output_type": "display_data",
          "data": {
            "image/png": "[encoded data removed]",
            "text/plain": [
              "<Figure size 432x288 with 1 Axes>"
            ]
          },
          "metadata": {
            "tags": [],
            "needs_background": "light"
          }
        }
      ]
    },
    {
      "cell_type": "markdown",
      "metadata": {
        "colab_type": "text",
        "id": "0RsUcQkNU963"
      },
      "source": [
        "<b>Observations:</b><br />\n",
        "1. Maximum number of tags per question: 5\n",
        "2. Minimum number of tags per question: 1\n",
        "3. Avg. number of tags per question: 2.899\n",
        "4. Most of the questions are having 2 or 3 tags"
      ]
    },
    {
      "cell_type": "markdown",
      "metadata": {
        "colab_type": "text",
        "id": "7-M5-A-MU963"
      },
      "source": [
        "<h3>3.2.5 Most Frequent Tags </h3>"
      ]
    },
    {
      "cell_type": "code",
      "metadata": {
        "colab_type": "code",
        "id": "Brokf0gSU965",
        "outputId": "b9794ec6-8e67-49ad-f641-069638dbd951",
        "scrolled": false,
        "colab": {}
      },
      "source": [
        "# Ploting word cloud\n",
        "start = datetime.now()\n",
        "\n",
        "# Lets first convert the 'result' dictionary to 'list of tuples'\n",
        "tup = dict(result.items())\n",
        "#Initializing WordCloud using frequencies of tags.\n",
        "wordcloud = WordCloud(    background_color='black',\n",
        "                          width=1600,\n",
        "                          height=800,\n",
        "                    ).generate_from_frequencies(tup)\n",
        "\n",
        "fig = plt.figure(figsize=(10,8))\n",
        "plt.imshow(wordcloud)\n",
        "plt.axis('off')\n",
        "plt.tight_layout(pad=0)\n",
        "fig.savefig(\"tag.png\")\n",
        "plt.show()\n",
        "print(\"Time taken to run this cell :\", datetime.now() - start)"
      ],
      "execution_count": 0,
      "outputs": [
        {
          "output_type": "display_data",
          "data": {
            "image/png": "[encoded data removed]",
            "text/plain": [
              "<Figure size 720x576 with 1 Axes>"
            ]
          },
          "metadata": {
            "tags": [],
            "needs_background": "light"
          }
        },
        {
          "output_type": "stream",
          "text": [
            "Time taken to run this cell : 0:00:07.370940\n"
          ],
          "name": "stdout"
        }
      ]
    },
    {
      "cell_type": "markdown",
      "metadata": {
        "colab_type": "text",
        "id": "_n7RaKj2U96-"
      },
      "source": [
        "<b>Observations:</b><br />\n",
        "A look at the word cloud shows that \"c#\", \"java\", \"php\", \"asp.net\", \"javascript\", \"c++\" are some of the most frequent tags."
      ]
    },
    {
      "cell_type": "markdown",
      "metadata": {
        "colab_type": "text",
        "id": "Hpc8IWjqU96_"
      },
      "source": [
        "<h3> 3.2.6 The top 20 tags </h3>"
      ]
    },
    {
      "cell_type": "code",
      "metadata": {
        "colab_type": "code",
        "id": "Ov3WmIEHU97A",
        "outputId": "8e4867c3-81da-445d-a7b3-fc8d4c283be0",
        "colab": {}
      },
      "source": [
        "i=np.arange(30)\n",
        "tag_df_sorted.head(30).plot(kind='bar')\n",
        "plt.title('Frequency of top 20 tags')\n",
        "plt.xticks(i, tag_df_sorted['Tags'])\n",
        "plt.xlabel('Tags')\n",
        "plt.ylabel('Counts')\n",
        "plt.show()"
      ],
      "execution_count": 0,
      "outputs": [
        {
          "output_type": "display_data",
          "data": {
            "image/png": "[encoded data removed]",
            "text/plain": [
              "<Figure size 432x288 with 1 Axes>"
            ]
          },
          "metadata": {
            "tags": [],
            "needs_background": "light"
          }
        }
      ]
    },
    {
      "cell_type": "markdown",
      "metadata": {
        "colab_type": "text",
        "id": "rlmizz7LU97D"
      },
      "source": [
        "<b>Observations:</b><br />\n",
        "1. Majority of the most frequent tags are programming language.\n",
        "2. C# is the top most frequent programming language.\n",
        "3. Android, IOS, Linux and windows are among the top most frequent operating systems."
      ]
    },
    {
      "cell_type": "markdown",
      "metadata": {
        "colab_type": "text",
        "id": "I-Z7F0_mU97F"
      },
      "source": [
        "<h3> 3.3 Cleaning and preprocessing of Questions </h3>"
      ]
    },
    {
      "cell_type": "markdown",
      "metadata": {
        "colab_type": "text",
        "id": "cWzF-nN6U97G"
      },
      "source": [
        "<h3> 3.3.1 Preprocessing </h3>"
      ]
    },
    {
      "cell_type": "markdown",
      "metadata": {
        "colab_type": "text",
        "id": "MeR1aoQaU97H"
      },
      "source": [
        "<ol> \n",
        "    <li> Sample 1M data points </li>\n",
        "    <li> Separate out code-snippets from Body </li>\n",
        "    <li> Remove Spcial characters from Question title and description (not in code)</li>\n",
        "    <li> Remove stop words (Except 'C') </li>\n",
        "    <li> Remove HTML Tags </li>\n",
        "    <li> Convert all the characters into small letters </li>\n",
        "    <li> Use SnowballStemmer to stem the words </li>\n",
        "</ol>"
      ]
    },
    {
      "cell_type": "code",
      "metadata": {
        "colab_type": "code",
        "id": "Qr2xhpsAU97I",
        "colab": {}
      },
      "source": [
        "def striphtml(data):\n",
        "    cleanr = re.compile('<.*?>')\n",
        "    cleantext = re.sub(cleanr, ' ', str(data))\n",
        "    return cleantext\n",
        "stop_words = set(stopwords.words('english'))\n",
        "stemmer = SnowballStemmer(\"english\")"
      ],
      "execution_count": 0,
      "outputs": []
    },
    {
      "cell_type": "code",
      "metadata": {
        "colab_type": "code",
        "id": "LCDUa4KxU97L",
        "outputId": "8270b10f-cf17-4025-9440-5f2b2b62579c",
        "colab": {}
      },
      "source": [
        "#http://www.sqlitetutorial.net/sqlite-python/create-tables/\n",
        "def create_connection(db_file):\n",
        "    \"\"\" create a database connection to the SQLite database\n",
        "        specified by db_file\n",
        "    :param db_file: database file\n",
        "    :return: Connection object or None\n",
        "    \"\"\"\n",
        "    try:\n",
        "        conn = sqlite3.connect(db_file)\n",
        "        return conn\n",
        "    except Error as e:\n",
        "        print(e)\n",
        " \n",
        "    return None\n",
        "\n",
        "def create_table(conn, create_table_sql):\n",
        "    \"\"\" create a table from the create_table_sql statement\n",
        "    :param conn: Connection object\n",
        "    :param create_table_sql: a CREATE TABLE statement\n",
        "    :return:\n",
        "    \"\"\"\n",
        "    try:\n",
        "        c = conn.cursor()\n",
        "        c.execute(create_table_sql)\n",
        "    except Error as e:\n",
        "        print(e)\n",
        "        \n",
        "def checkTableExists(dbcon):\n",
        "    cursr = dbcon.cursor()\n",
        "    str = \"select name from sqlite_master where type='table'\"\n",
        "    table_names = cursr.execute(str)\n",
        "    print(\"Tables in the databse:\")\n",
        "    tables =table_names.fetchall() \n",
        "    print(tables[0][0])\n",
        "    return(len(tables))\n",
        "\n",
        "def create_database_table(database, query):\n",
        "    conn = create_connection(database)\n",
        "    if conn is not None:\n",
        "        create_table(conn, query)\n",
        "        checkTableExists(conn)\n",
        "    else:\n",
        "        print(\"Error! cannot create the database connection.\")\n",
        "    conn.close()\n",
        "\n",
        "sql_create_table = \"\"\"CREATE TABLE IF NOT EXISTS QuestionsProcessed (question text NOT NULL, code text, tags text, words_pre integer, words_post integer, is_code integer);\"\"\"\n",
        "create_database_table(\"Processed.db\", sql_create_table)"
      ],
      "execution_count": 0,
      "outputs": [
        {
          "output_type": "stream",
          "text": [
            "Tables in the databse:\n",
            "QuestionsProcessed\n"
          ],
          "name": "stdout"
        }
      ]
    },
    {
      "cell_type": "markdown",
      "metadata": {
        "id": "yui03onAoyy0",
        "colab_type": "text"
      },
      "source": [
        "### HACK:Modeling with less data points (0.2M data points) and more weight to title and 500 tags only."
      ]
    },
    {
      "cell_type": "code",
      "metadata": {
        "colab_type": "code",
        "id": "qz092AdFU97P",
        "outputId": "b00a3eec-60d8-4c08-83c8-54debd0a4123",
        "colab": {}
      },
      "source": [
        "# http://www.sqlitetutorial.net/sqlite-delete/\n",
        "# https://stackoverflow.com/questions/2279706/select-random-row-from-a-sqlite-table\n",
        "# taking 0.5 Million data because of computional time as it takes 6-7 hrs for 1M\n",
        "start = datetime.now()\n",
        "read_db = 'train_no_dup.db'\n",
        "write_db = 'Processed.db'\n",
        "if os.path.isfile(read_db):\n",
        "    conn_r = create_connection(read_db)\n",
        "    if conn_r is not None:\n",
        "        reader =conn_r.cursor()\n",
        "        reader.execute(\"SELECT Title, Body, Tags From no_dup_train ORDER BY RANDOM() LIMIT 200000.;\")\n",
        "\n",
        "if os.path.isfile(write_db):\n",
        "    conn_w = create_connection(write_db)\n",
        "    if conn_w is not None:\n",
        "        tables = checkTableExists(conn_w)\n",
        "        writer =conn_w.cursor()\n",
        "        if tables != 0:\n",
        "            writer.execute(\"DELETE FROM QuestionsProcessed WHERE 1\")\n",
        "            print(\"Cleared All the rows\")\n",
        "print(\"Time taken to run this cell :\", datetime.now() - start)"
      ],
      "execution_count": 0,
      "outputs": [
        {
          "output_type": "stream",
          "text": [
            "Tables in the databse:\n",
            "QuestionsProcessed\n",
            "Cleared All the rows\n",
            "Time taken to run this cell : 0:03:05.379958\n"
          ],
          "name": "stdout"
        }
      ]
    },
    {
      "cell_type": "code",
      "metadata": {
        "id": "zcJ-pP8Ioyy2",
        "colab_type": "code",
        "colab": {},
        "outputId": "8a2bb6d6-d8b9-48cc-e6b4-19173dd77e2b"
      },
      "source": [
        "import nltk\n",
        "nltk.download('punkt')"
      ],
      "execution_count": 0,
      "outputs": [
        {
          "output_type": "stream",
          "text": [
            "[nltk_data] Downloading package punkt to\n",
            "[nltk_data]     C:\\Users\\Dell\\AppData\\Roaming\\nltk_data...\n",
            "[nltk_data]   Package punkt is already up-to-date!\n"
          ],
          "name": "stderr"
        },
        {
          "output_type": "execute_result",
          "data": {
            "text/plain": [
              "True"
            ]
          },
          "metadata": {
            "tags": []
          },
          "execution_count": 83
        }
      ]
    },
    {
      "cell_type": "markdown",
      "metadata": {
        "colab_type": "text",
        "id": "FELLR5FBU97U"
      },
      "source": [
        "__ we create a new data base to store the sampled and preprocessed questions __"
      ]
    },
    {
      "cell_type": "code",
      "metadata": {
        "colab_type": "code",
        "id": "clKVIuAcU97W",
        "outputId": "eab75c6e-f76e-4cf2-eb4d-c589a9908be5",
        "scrolled": true,
        "colab": {}
      },
      "source": [
        "#http://www.bernzilla.com/2008/05/13/selecting-a-random-row-from-an-sqlite-table/\n",
        "\n",
        "start = datetime.now()\n",
        "preprocessed_data_list=[]\n",
        "reader.fetchone()\n",
        "questions_with_code=0\n",
        "len_pre=0\n",
        "len_post=0\n",
        "questions_proccesed = 0\n",
        "for row in reader:\n",
        "\n",
        "    is_code = 0\n",
        "\n",
        "    title, question, tags = row[0], row[1], row[2]\n",
        "\n",
        "    if '<code>' in question:\n",
        "        questions_with_code+=1\n",
        "        is_code = 1\n",
        "    x = len(question)+len(title)\n",
        "    len_pre+=x\n",
        "\n",
        "    code = str(re.findall(r'<code>(.*?)</code>', question, flags=re.DOTALL))\n",
        "\n",
        "    question=re.sub('<code>(.*?)</code>', '', question, flags=re.MULTILINE|re.DOTALL)\n",
        "    question=striphtml(question.encode('utf-8'))\n",
        "\n",
        "    title=title.encode('utf-8')\n",
        "\n",
        "    question=str(title)+\" \"+str(question)\n",
        "    question=re.sub(r'[^A-Za-z]+',' ',question)\n",
        "    words=word_tokenize(str(question.lower()))\n",
        "\n",
        "    #Removing all single letter and and stopwords from question exceptt for the letter 'c'\n",
        "    question=' '.join(str(stemmer.stem(j)) for j in words if j not in stop_words and (len(j)!=1 or j=='c'))\n",
        "\n",
        "    len_post+=len(question)\n",
        "    tup = (question,code,tags,x,len(question),is_code)\n",
        "    questions_proccesed += 1\n",
        "    writer.execute(\"insert into QuestionsProcessed(question,code,tags,words_pre,words_post,is_code) values (?,?,?,?,?,?)\",tup)\n",
        "    if (questions_proccesed%100000==0):\n",
        "        print(\"number of questions completed=\",questions_proccesed)\n",
        "\n",
        "no_dup_avg_len_pre=(len_pre*1.0)/questions_proccesed\n",
        "no_dup_avg_len_post=(len_post*1.0)/questions_proccesed\n",
        "\n",
        "print( \"Avg. length of questions(Title+Body) before processing: %d\"%no_dup_avg_len_pre)\n",
        "print( \"Avg. length of questions(Title+Body) after processing: %d\"%no_dup_avg_len_post)\n",
        "print (\"Percent of questions containing code: %d\"%((questions_with_code*100.0)/questions_proccesed))\n",
        "\n",
        "print(\"Time taken to run this cell :\", datetime.now() - start)"
      ],
      "execution_count": 0,
      "outputs": [
        {
          "output_type": "stream",
          "text": [
            "number of questions completed= 100000\n",
            "Avg. length of questions(Title+Body) before processing: 1173\n",
            "Avg. length of questions(Title+Body) after processing: 327\n",
            "Percent of questions containing code: 57\n",
            "Time taken to run this cell : 0:09:53.847749\n"
          ],
          "name": "stdout"
        }
      ]
    },
    {
      "cell_type": "code",
      "metadata": {
        "colab_type": "code",
        "id": "fMihWt4uU97b",
        "colab": {}
      },
      "source": [
        "# dont forget to close the connections, or else you will end up with locks\n",
        "conn_r.commit()\n",
        "conn_w.commit()\n",
        "conn_r.close()\n",
        "conn_w.close()"
      ],
      "execution_count": 0,
      "outputs": []
    },
    {
      "cell_type": "code",
      "metadata": {
        "colab_type": "code",
        "id": "y8VzP3hsU97e",
        "outputId": "5efb2876-7d07-438f-aeac-edeecc694f5b",
        "colab": {}
      },
      "source": [
        "if os.path.isfile(write_db):\n",
        "    conn_r = create_connection(write_db)\n",
        "    if conn_r is not None:\n",
        "        reader =conn_r.cursor()\n",
        "        reader.execute(\"SELECT question From QuestionsProcessed LIMIT 10\")\n",
        "        print(\"Questions after preprocessed\")\n",
        "        print('='*100)\n",
        "        reader.fetchone()\n",
        "        for row in reader:\n",
        "            print(row)\n",
        "            print('-'*100)\n",
        "conn_r.commit()\n",
        "conn_r.close()"
      ],
      "execution_count": 0,
      "outputs": [
        {
          "output_type": "stream",
          "text": [
            "Questions after preprocessed\n",
            "====================================================================================================\n",
            "('disabl templat featur symfoni look forward use symfoni dont want use templat engin disabl default templat engin twig use nativ php',)\n",
            "----------------------------------------------------------------------------------------------------\n",
            "('edit ip allow list exchang like add ip address ip allow list exchang use exchang manag consol organ configur hub transport anti spam featur appear enabl exchang manag consol allow disabl featur chang eg action pane show properti option mention various articl explain use doubl click anyth right click show properti featur except ip block list seem access',)\n",
            "----------------------------------------------------------------------------------------------------\n",
            "('wake activ android applic click menu catalogu product group product detail click add cart open cart cart click save cart cart activ ed product group shown want menu activ shown use open menu possibl wake menu activ hope clear edit call cart activ close applic solv forget add manifest xml',)\n",
            "----------------------------------------------------------------------------------------------------\n",
            "('io automat refer count question creat app arc last version io compat app upload app appstor everyon use app peopl devic specif io version',)\n",
            "----------------------------------------------------------------------------------------------------\n",
            "('rubi rail find top user order purchas model user purchas na purchas field tri achiev method call would return user highest purchas valu sum purchas amount field user also want abl someth like select time period calcul top five user tri get right combin join sum order bys etc get hope someon point right direct nhope given enough info first question thank',)\n",
            "----------------------------------------------------------------------------------------------------\n",
            "('invalid call object error write follow js run ie kept get invalid call object error mark line page sourc screenshot',)\n",
            "----------------------------------------------------------------------------------------------------\n",
            "('putti output receiv data separ window use putti connect custom app order feed command receiv log inform problem much log data spam putti termin window would realli nice suppos receiv data separ window separ command window nof cours could chang app send log data differ port creat second putti session receiv data wonder possibl putti separ command log window',)\n",
            "----------------------------------------------------------------------------------------------------\n",
            "('direct show decreas video file size use direct show captur video save file tri vain find way decreas result video size manag would like know anyon tell decreas frame rate video decreas qualiti video even appli compress video mpeg etc',)\n",
            "----------------------------------------------------------------------------------------------------\n",
            "('php script talk c program potenti new project embed linux devic need web interfac code applic run singl process c web interfac need abl configur various variabl c program good mechan php communic valu php script c process ty nfred',)\n",
            "----------------------------------------------------------------------------------------------------\n"
          ],
          "name": "stdout"
        }
      ]
    },
    {
      "cell_type": "markdown",
      "metadata": {
        "id": "g10RTaBaoyzB",
        "colab_type": "text"
      },
      "source": [
        "#### SAVING PREPROCESSED DATA TO DATABASE"
      ]
    },
    {
      "cell_type": "code",
      "metadata": {
        "colab_type": "code",
        "id": "jSJXxeS0U97i",
        "colab": {}
      },
      "source": [
        "#Taking 0.5 Million entries to a dataframe.\n",
        "write_db = 'Processed.db'\n",
        "if os.path.isfile(write_db):\n",
        "    conn_r = create_connection(write_db)\n",
        "    if conn_r is not None:\n",
        "        preprocessed_data = pd.read_sql_query(\"\"\"SELECT question, Tags FROM QuestionsProcessed\"\"\", conn_r)\n",
        "conn_r.commit()\n",
        "conn_r.close()"
      ],
      "execution_count": 0,
      "outputs": []
    },
    {
      "cell_type": "code",
      "metadata": {
        "colab_type": "code",
        "id": "ANsenX1EU97l",
        "outputId": "6170e6c6-86e0-48e9-d1c1-190c0cfc15be",
        "colab": {}
      },
      "source": [
        "preprocessed_data.head()"
      ],
      "execution_count": 0,
      "outputs": [
        {
          "output_type": "execute_result",
          "data": {
            "text/html": [
              "<div>\n",
              "<style scoped>\n",
              "    .dataframe tbody tr th:only-of-type {\n",
              "        vertical-align: middle;\n",
              "    }\n",
              "\n",
              "    .dataframe tbody tr th {\n",
              "        vertical-align: top;\n",
              "    }\n",
              "\n",
              "    .dataframe thead th {\n",
              "        text-align: right;\n",
              "    }\n",
              "</style>\n",
              "<table border=\"1\" class=\"dataframe\">\n",
              "  <thead>\n",
              "    <tr style=\"text-align: right;\">\n",
              "      <th></th>\n",
              "      <th>question</th>\n",
              "      <th>tags</th>\n",
              "    </tr>\n",
              "  </thead>\n",
              "  <tbody>\n",
              "    <tr>\n",
              "      <th>0</th>\n",
              "      <td>databas implement data relat creat databas tab...</td>\n",
              "      <td>database database-design database-schema</td>\n",
              "    </tr>\n",
              "    <tr>\n",
              "      <th>1</th>\n",
              "      <td>disabl templat featur symfoni look forward use...</td>\n",
              "      <td>php symfony2</td>\n",
              "    </tr>\n",
              "    <tr>\n",
              "      <th>2</th>\n",
              "      <td>edit ip allow list exchang like add ip address...</td>\n",
              "      <td>exchange-2010 anti-spam</td>\n",
              "    </tr>\n",
              "    <tr>\n",
              "      <th>3</th>\n",
              "      <td>wake activ android applic click menu catalogu ...</td>\n",
              "      <td>android activity</td>\n",
              "    </tr>\n",
              "    <tr>\n",
              "      <th>4</th>\n",
              "      <td>io automat refer count question creat app arc ...</td>\n",
              "      <td>ios xcode automatic-ref-counting</td>\n",
              "    </tr>\n",
              "  </tbody>\n",
              "</table>\n",
              "</div>"
            ],
            "text/plain": [
              "                                            question  \\\n",
              "0  databas implement data relat creat databas tab...   \n",
              "1  disabl templat featur symfoni look forward use...   \n",
              "2  edit ip allow list exchang like add ip address...   \n",
              "3  wake activ android applic click menu catalogu ...   \n",
              "4  io automat refer count question creat app arc ...   \n",
              "\n",
              "                                       tags  \n",
              "0  database database-design database-schema  \n",
              "1                              php symfony2  \n",
              "2                   exchange-2010 anti-spam  \n",
              "3                          android activity  \n",
              "4          ios xcode automatic-ref-counting  "
            ]
          },
          "metadata": {
            "tags": []
          },
          "execution_count": 88
        }
      ]
    },
    {
      "cell_type": "code",
      "metadata": {
        "colab_type": "code",
        "id": "I6vsCoLOU97r",
        "outputId": "494f221b-f6ed-4aeb-a557-aeb6d209cf38",
        "colab": {}
      },
      "source": [
        "print(\"number of data points in sample :\", preprocessed_data.shape[0])\n",
        "print(\"number of dimensions :\", preprocessed_data.shape[1])"
      ],
      "execution_count": 0,
      "outputs": [
        {
          "output_type": "stream",
          "text": [
            "number of data points in sample : 199999\n",
            "number of dimensions : 2\n"
          ],
          "name": "stdout"
        }
      ]
    },
    {
      "cell_type": "markdown",
      "metadata": {
        "colab_type": "text",
        "id": "qB0bL2drU97w"
      },
      "source": [
        "<h1>4. Machine Learning Models </h1>"
      ]
    },
    {
      "cell_type": "markdown",
      "metadata": {
        "colab_type": "text",
        "id": "BZ3-VPbqU97w"
      },
      "source": [
        "<h2> 4.1 Converting tags for multilabel problems </h2>"
      ]
    },
    {
      "cell_type": "markdown",
      "metadata": {
        "colab_type": "text",
        "id": "K88oaTD9U97y"
      },
      "source": [
        "<table>\n",
        "<tr>\n",
        "<th>X</th><th>y1</th><th>y2</th><th>y3</th><th>y4</th>\n",
        "</tr>\n",
        "<tr>\n",
        "<td>x1</td><td>0</td><td>1</td><td>1</td><td>0</td>\n",
        "</tr>\n",
        "<tr>\n",
        "<td>x1</td><td>1</td><td>0</td><td>0</td><td>0</td>\n",
        "</tr>\n",
        "<tr>\n",
        "<td>x1</td><td>0</td><td>1</td><td>0</td><td>0</td>\n",
        "</tr>\n",
        "</table>"
      ]
    },
    {
      "cell_type": "code",
      "metadata": {
        "colab_type": "code",
        "id": "ttr2m-qiU97z",
        "colab": {}
      },
      "source": [
        "# binary='true' will give a binary vectorizer\n",
        "vectorizer = CountVectorizer(tokenizer = lambda x: x.split(), binary='true')\n",
        "multilabel_y = vectorizer.fit_transform(preprocessed_data['tags'])"
      ],
      "execution_count": 0,
      "outputs": []
    },
    {
      "cell_type": "markdown",
      "metadata": {
        "colab_type": "text",
        "id": "_VCwyfHxU972"
      },
      "source": [
        "__ We will sample the number of tags instead considering all of them (due to limitation of computing power) __"
      ]
    },
    {
      "cell_type": "markdown",
      "metadata": {
        "id": "YVAGu-IIoyzU",
        "colab_type": "text"
      },
      "source": [
        "### selecting 500 tags"
      ]
    },
    {
      "cell_type": "code",
      "metadata": {
        "colab_type": "code",
        "id": "-FtgktWvU973",
        "colab": {}
      },
      "source": [
        "def tags_to_choose(n):\n",
        "    t = multilabel_y.sum(axis=0).tolist()[0]\n",
        "    sorted_tags_i = sorted(range(len(t)), key=lambda i: t[i], reverse=True)\n",
        "    multilabel_yn=multilabel_y[:,sorted_tags_i[:n]]\n",
        "    return multilabel_yn\n",
        "\n",
        "def questions_explained_fn(n):\n",
        "    multilabel_yn = tags_to_choose(n)\n",
        "    x= multilabel_yn.sum(axis=1)\n",
        "    return (np.count_nonzero(x==0))"
      ],
      "execution_count": 0,
      "outputs": []
    },
    {
      "cell_type": "code",
      "metadata": {
        "colab_type": "code",
        "id": "XxbL2OyqU978",
        "colab": {}
      },
      "source": [
        "questions_explained = []\n",
        "total_tags=multilabel_y.shape[1]\n",
        "total_qs=preprocessed_data.shape[0]\n",
        "for i in range(500, total_tags, 100):\n",
        "    questions_explained.append(np.round(((total_qs-questions_explained_fn(i))/total_qs)*100,3))"
      ],
      "execution_count": 0,
      "outputs": []
    },
    {
      "cell_type": "code",
      "metadata": {
        "colab_type": "code",
        "id": "sbX6_QWtU98B",
        "outputId": "7add8021-d595-4e9e-c506-611520b21a9c",
        "colab": {}
      },
      "source": [
        "fig, ax = plt.subplots()\n",
        "ax.plot(questions_explained)\n",
        "xlabel = list(500+np.array(range(-50,450,50))*50)\n",
        "ax.set_xticklabels(xlabel)\n",
        "plt.xlabel(\"Number of tags\")\n",
        "plt.ylabel(\"Number Questions coverd partially\")\n",
        "plt.grid()\n",
        "plt.show()\n",
        "# you can choose any number of tags based on your computing power, minimun is 50(it covers 90% of the tags)\n",
        "print(\"with \",5500,\"tags we are covering \",questions_explained[50],\"% of questions\")\n",
        "print(\"with \",500,\"tags we are covering \",questions_explained[0],\"% of questions\")"
      ],
      "execution_count": 0,
      "outputs": [
        {
          "output_type": "display_data",
          "data": {
            "image/png": "[encoded data removed]",
            "text/plain": [
              "<Figure size 432x288 with 1 Axes>"
            ]
          },
          "metadata": {
            "tags": [],
            "needs_background": "light"
          }
        },
        {
          "output_type": "stream",
          "text": [
            "with  5500 tags we are covering  99.069 % of questions\n",
            "with  500 tags we are covering  90.081 % of questions\n"
          ],
          "name": "stdout"
        }
      ]
    },
    {
      "cell_type": "code",
      "metadata": {
        "colab_type": "code",
        "id": "IgJKNRG0U98F",
        "outputId": "b620a1a2-a9c8-43be-b325-a8ff5ec6c0e0",
        "colab": {}
      },
      "source": [
        "#taking 500 tags\n",
        "multilabel_yx = tags_to_choose(500)\n",
        "print(\"number of questions that are not covered :\", questions_explained_fn(500),\"out of \", total_qs)"
      ],
      "execution_count": 0,
      "outputs": [
        {
          "output_type": "stream",
          "text": [
            "number of questions that are not covered : 19838 out of  199999\n"
          ],
          "name": "stdout"
        }
      ]
    },
    {
      "cell_type": "code",
      "metadata": {
        "colab_type": "code",
        "id": "BTuhd5XMU98L",
        "outputId": "c60da5fb-99c9-4c8b-f417-633ef97eb598",
        "colab": {}
      },
      "source": [
        "print(\"Number of tags in sample :\", multilabel_y.shape[1])\n",
        "print(\"number of tags taken :\", multilabel_yx.shape[1],\"(\",(multilabel_yx.shape[1]/multilabel_y.shape[1])*100,\"%)\")"
      ],
      "execution_count": 0,
      "outputs": [
        {
          "output_type": "stream",
          "text": [
            "Number of tags in sample : 23600\n",
            "number of tags taken : 500 ( 2.11864406779661 %)\n"
          ],
          "name": "stdout"
        }
      ]
    },
    {
      "cell_type": "markdown",
      "metadata": {
        "colab_type": "text",
        "id": "IxH1ggjxU98R"
      },
      "source": [
        "__ We consider top 15% tags which covers  90.056% of the questions __"
      ]
    },
    {
      "cell_type": "markdown",
      "metadata": {
        "colab_type": "text",
        "id": "stMfn7tMU98U"
      },
      "source": [
        "<h2>4.2 Split the data into test and train (80:20) </h2>"
      ]
    },
    {
      "cell_type": "code",
      "metadata": {
        "colab_type": "code",
        "id": "YqeDZrwWU98U",
        "colab": {}
      },
      "source": [
        "total_size=preprocessed_data.shape[0]\n",
        "train_size=int(0.80*total_size)\n",
        "\n",
        "x_train=preprocessed_data.head(train_size)\n",
        "x_test=preprocessed_data.tail(total_size - train_size)\n",
        "\n",
        "y_train = multilabel_yx[0:train_size,:]\n",
        "y_test = multilabel_yx[train_size:total_size,:]"
      ],
      "execution_count": 0,
      "outputs": []
    },
    {
      "cell_type": "code",
      "metadata": {
        "colab_type": "code",
        "id": "TgNXo4eJU98X",
        "outputId": "21bef306-6c57-47af-e70a-e501c4225d4d",
        "colab": {}
      },
      "source": [
        "print(\"Number of data points in train data :\", y_train.shape)\n",
        "print(\"Number of data points in test data :\", y_test.shape)"
      ],
      "execution_count": 0,
      "outputs": [
        {
          "output_type": "stream",
          "text": [
            "Number of data points in train data : (159999, 500)\n",
            "Number of data points in test data : (40000, 500)\n"
          ],
          "name": "stdout"
        }
      ]
    },
    {
      "cell_type": "markdown",
      "metadata": {
        "colab_type": "text",
        "id": "664323eyU98a"
      },
      "source": [
        "<h2>4.3 Featurizing data </h2>"
      ]
    },
    {
      "cell_type": "markdown",
      "metadata": {
        "id": "2kX9Hyetoyzl",
        "colab_type": "text"
      },
      "source": [
        "### TASK 1: Use bag of words upto 4 grams and compute the micro f1 score with Logistic regression(OvR)"
      ]
    },
    {
      "cell_type": "code",
      "metadata": {
        "colab_type": "code",
        "id": "EnV3O0WFU98b",
        "outputId": "ef87c28c-4224-451e-c762-0baa2086bd70",
        "colab": {}
      },
      "source": [
        "start = datetime.now()\n",
        "vectorizer = CountVectorizer(min_df=0.00009, max_features=200000, tokenizer = lambda x: x.split(),  ngram_range=(1,4))\n",
        "                             \n",
        "x_train_multilabel = vectorizer.fit_transform(x_train['question'])\n",
        "x_test_multilabel = vectorizer.transform(x_test['question'])\n",
        "print(\"Time taken to run this cell :\", datetime.now() - start)"
      ],
      "execution_count": 0,
      "outputs": [
        {
          "output_type": "stream",
          "text": [
            "Time taken to run this cell : 0:01:48.542779\n"
          ],
          "name": "stdout"
        }
      ]
    },
    {
      "cell_type": "code",
      "metadata": {
        "id": "beEStURwoyzn",
        "colab_type": "code",
        "colab": {},
        "outputId": "23ebb36c-61af-4a9e-d94e-1890af4c6caa"
      },
      "source": [
        "print(\"Dimensions of train data X:\",x_train_multilabel.shape, \"Y :\",y_train.shape)\n",
        "print(\"Dimensions of test data X:\",x_test_multilabel.shape,\"Y:\",y_test.shape)"
      ],
      "execution_count": 0,
      "outputs": [
        {
          "output_type": "stream",
          "text": [
            "Dimensions of train data X: (159999, 90407) Y : (159999, 500)\n",
            "Dimensions of test data X: (40000, 90407) Y: (40000, 500)\n"
          ],
          "name": "stdout"
        }
      ]
    },
    {
      "cell_type": "markdown",
      "metadata": {
        "colab_type": "text",
        "id": "qh-EUIsAU98l"
      },
      "source": [
        "<h2> 4.4 Applying Logistic Regression with OneVsRest Classifier </h2>"
      ]
    },
    {
      "cell_type": "markdown",
      "metadata": {
        "id": "bMeeChLAoyzp",
        "colab_type": "text"
      },
      "source": [
        "### TASK 2:Perform hyperparameter tuning on alpha (or lambda) for Logistic regression to improve the performance using GridSearch"
      ]
    },
    {
      "cell_type": "code",
      "metadata": {
        "id": "jYAqhbLVoyzq",
        "colab_type": "code",
        "colab": {},
        "outputId": "87807491-0e5e-48bc-9376-7694f994349d"
      },
      "source": [
        "from sklearn.model_selection import GridSearchCV\n",
        "param={'estimator__alpha': [10**-4, 10**-3, 10**-2, 10**-1, 10**0, 10**1]}\n",
        "classifier = OneVsRestClassifier(SGDClassifier(loss='log', penalty='l1'))\n",
        "model = GridSearchCV(estimator = classifier, param_grid=param, verbose=0, scoring='f1_micro',n_jobs=-1)\n",
        "model.fit(x_train_multilabel, y_train)\n",
        "\n",
        "best_alpha = model.best_estimator_.get_params()['estimator__alpha']\n",
        "print('value of alpha after hyperparameter tuning : ',best_alpha)\n",
        "print('-------------------------------------------------------------')\n"
      ],
      "execution_count": 0,
      "outputs": [
        {
          "output_type": "stream",
          "text": [
            "value of alpha after hyperparameter tuning :  0.0001\n",
            "-------------------------------------------------------------\n"
          ],
          "name": "stdout"
        }
      ]
    },
    {
      "cell_type": "code",
      "metadata": {
        "id": "37WKr9eJoyzt",
        "colab_type": "code",
        "colab": {},
        "outputId": "16dbb8c1-2f13-4709-a72f-f442491f4c91"
      },
      "source": [
        "start = datetime.now()\n",
        "classifier = OneVsRestClassifier(SGDClassifier(loss='log', alpha=0.001, penalty='l1'), n_jobs=-1)\n",
        "classifier.fit(x_train_multilabel, y_train)\n",
        "predictions = classifier.predict (x_test_multilabel)\n",
        "\n",
        "\n",
        "print(\"Accuracy :\",metrics.accuracy_score(y_test, predictions))\n",
        "print(\"Hamming loss \",metrics.hamming_loss(y_test,predictions))\n",
        "\n",
        "\n",
        "precision = precision_score(y_test, predictions, average='micro')\n",
        "recall = recall_score(y_test, predictions, average='micro')\n",
        "f1 = f1_score(y_test, predictions, average='micro')\n",
        " \n",
        "print(\"Micro-average quality numbers\")\n",
        "print(\"Precision: {:.4f}, Recall: {:.4f}, F1-measure: {:.4f}\".format(precision, recall, f1))\n",
        "\n",
        "precision = precision_score(y_test, predictions, average='macro')\n",
        "recall = recall_score(y_test, predictions, average='macro')\n",
        "f1 = f1_score(y_test, predictions, average='macro')\n",
        " \n",
        "print(\"Macro-average quality numbers\")\n",
        "print(\"Precision: {:.4f}, Recall: {:.4f}, F1-measure: {:.4f}\".format(precision, recall, f1))\n",
        "\n",
        "print (metrics.classification_report(y_test, predictions))\n",
        "print(\"Time taken to run this cell :\", datetime.now() - start)"
      ],
      "execution_count": 0,
      "outputs": [
        {
          "output_type": "stream",
          "text": [
            "Accuracy : 0.1813\n",
            "Hamming loss  0.0031843\n",
            "Micro-average quality numbers\n",
            "Precision: 0.6452, Recall: 0.2644, F1-measure: 0.3751\n",
            "Macro-average quality numbers\n",
            "Precision: 0.3792, Recall: 0.1673, F1-measure: 0.2148\n",
            "              precision    recall  f1-score   support\n",
            "\n",
            "           0       0.45      0.05      0.10      3162\n",
            "           1       0.80      0.28      0.41      2785\n",
            "           2       0.80      0.47      0.59      2692\n",
            "           3       0.73      0.38      0.50      2655\n",
            "           4       0.92      0.68      0.78      2176\n",
            "           5       0.86      0.61      0.71      2204\n",
            "           6       0.59      0.11      0.18      1318\n",
            "           7       0.88      0.55      0.68      1252\n",
            "           8       0.72      0.39      0.51      1203\n",
            "           9       0.81      0.57      0.67      1236\n",
            "          10       0.77      0.29      0.42      1181\n",
            "          11       0.44      0.10      0.17      1212\n",
            "          12       0.27      0.05      0.08      1105\n",
            "          13       0.54      0.13      0.21       928\n",
            "          14       0.51      0.22      0.30       959\n",
            "          15       0.78      0.43      0.56       963\n",
            "          16       0.73      0.13      0.21       923\n",
            "          17       0.76      0.46      0.57       813\n",
            "          18       0.63      0.21      0.31       783\n",
            "          19       0.23      0.10      0.14       659\n",
            "          20       0.12      0.02      0.03       584\n",
            "          21       0.69      0.22      0.33       489\n",
            "          22       0.53      0.25      0.34       480\n",
            "          23       0.62      0.44      0.52       442\n",
            "          24       0.84      0.67      0.75       431\n",
            "          25       0.51      0.30      0.38       424\n",
            "          26       0.28      0.06      0.10       416\n",
            "          27       0.55      0.33      0.41       408\n",
            "          28       0.77      0.64      0.70       400\n",
            "          29       0.89      0.88      0.89       365\n",
            "          30       0.64      0.24      0.35       342\n",
            "          31       0.46      0.26      0.33       340\n",
            "          32       0.61      0.57      0.59       303\n",
            "          33       0.79      0.34      0.48       316\n",
            "          34       0.45      0.24      0.32       317\n",
            "          35       0.72      0.59      0.65       322\n",
            "          36       0.26      0.08      0.12       296\n",
            "          37       0.19      0.07      0.11       286\n",
            "          38       0.69      0.50      0.58       297\n",
            "          39       0.53      0.34      0.41       247\n",
            "          40       0.25      0.05      0.08       242\n",
            "          41       0.75      0.16      0.26       254\n",
            "          42       0.28      0.13      0.18       230\n",
            "          43       0.21      0.07      0.11       223\n",
            "          44       0.40      0.09      0.15       231\n",
            "          45       0.59      0.28      0.38       275\n",
            "          46       0.54      0.11      0.18       242\n",
            "          47       0.14      0.05      0.08       228\n",
            "          48       0.64      0.35      0.45       214\n",
            "          49       0.21      0.07      0.11       218\n",
            "          50       0.00      0.00      0.00       233\n",
            "          51       0.41      0.10      0.16       194\n",
            "          52       0.73      0.32      0.45       213\n",
            "          53       0.16      0.08      0.10       210\n",
            "          54       0.62      0.59      0.61       198\n",
            "          55       0.69      0.31      0.43       204\n",
            "          56       0.20      0.00      0.01       213\n",
            "          57       0.29      0.10      0.15       213\n",
            "          58       0.86      0.69      0.77       193\n",
            "          59       0.21      0.08      0.12       214\n",
            "          60       0.81      0.73      0.77       196\n",
            "          61       0.33      0.16      0.21       180\n",
            "          62       0.20      0.03      0.05       209\n",
            "          63       0.66      0.58      0.62       189\n",
            "          64       0.77      0.73      0.75       200\n",
            "          65       0.69      0.25      0.37       196\n",
            "          66       0.11      0.01      0.01       162\n",
            "          67       0.67      0.25      0.36       169\n",
            "          68       0.23      0.03      0.05       184\n",
            "          69       0.62      0.61      0.62       189\n",
            "          70       0.75      0.68      0.71       155\n",
            "          71       0.80      0.41      0.54       173\n",
            "          72       0.72      0.31      0.43       170\n",
            "          73       0.51      0.27      0.35       182\n",
            "          74       0.00      0.00      0.00       183\n",
            "          75       0.47      0.27      0.34       159\n",
            "          76       0.84      0.09      0.16       176\n",
            "          77       0.34      0.14      0.20       164\n",
            "          78       0.23      0.02      0.03       163\n",
            "          79       0.18      0.18      0.18       176\n",
            "          80       0.94      0.65      0.77       172\n",
            "          81       0.50      0.10      0.17       181\n",
            "          82       0.47      0.32      0.38       148\n",
            "          83       0.60      0.18      0.28       151\n",
            "          84       0.54      0.15      0.24       139\n",
            "          85       0.21      0.05      0.08       137\n",
            "          86       0.93      0.45      0.60       143\n",
            "          87       0.75      0.37      0.49       153\n",
            "          88       0.88      0.46      0.60       159\n",
            "          89       0.52      0.38      0.44       138\n",
            "          90       0.86      0.51      0.64       138\n",
            "          91       0.25      0.01      0.02       112\n",
            "          92       0.57      0.80      0.67       128\n",
            "          93       0.90      0.51      0.65       134\n",
            "          94       0.47      0.40      0.43       132\n",
            "          95       0.71      0.38      0.50       128\n",
            "          96       0.57      0.27      0.37       113\n",
            "          97       0.87      0.49      0.62       113\n",
            "          98       0.30      0.03      0.05       117\n",
            "          99       0.25      0.15      0.19       141\n",
            "         100       0.19      0.03      0.05       116\n",
            "         101       0.25      0.06      0.09       125\n",
            "         102       0.16      0.03      0.04       120\n",
            "         103       0.58      0.06      0.10       122\n",
            "         104       0.44      0.08      0.14       130\n",
            "         105       0.95      0.33      0.49       124\n",
            "         106       0.78      0.53      0.63       119\n",
            "         107       0.00      0.00      0.00       106\n",
            "         108       0.77      0.29      0.42       123\n",
            "         109       0.64      0.22      0.32       129\n",
            "         110       0.71      0.26      0.38       122\n",
            "         111       0.32      0.19      0.24       112\n",
            "         112       0.48      0.24      0.32       120\n",
            "         113       0.50      0.18      0.27       125\n",
            "         114       0.64      0.12      0.21       113\n",
            "         115       0.65      0.30      0.41       113\n",
            "         116       0.21      0.05      0.08       119\n",
            "         117       0.29      0.20      0.24       100\n",
            "         118       0.25      0.18      0.21       105\n",
            "         119       0.32      0.08      0.13       102\n",
            "         120       0.96      0.58      0.72       113\n",
            "         121       0.81      0.53      0.64       120\n",
            "         122       0.53      0.15      0.23       115\n",
            "         123       0.29      0.12      0.17       114\n",
            "         124       0.27      0.07      0.11        97\n",
            "         125       0.00      0.00      0.00       102\n",
            "         126       0.90      0.66      0.76       100\n",
            "         127       0.48      0.37      0.42       115\n",
            "         128       0.69      0.26      0.38        93\n",
            "         129       0.86      0.57      0.68       104\n",
            "         130       0.80      0.71      0.76        98\n",
            "         131       0.29      0.02      0.04        95\n",
            "         132       0.38      0.05      0.08       110\n",
            "         133       0.35      0.07      0.12        99\n",
            "         134       0.63      0.13      0.21        95\n",
            "         135       0.17      0.06      0.09        85\n",
            "         136       0.24      0.07      0.11        99\n",
            "         137       0.87      0.44      0.58       103\n",
            "         138       0.27      0.15      0.19        81\n",
            "         139       0.46      0.05      0.10       112\n",
            "         140       0.39      0.22      0.28       101\n",
            "         141       0.14      0.21      0.17        86\n",
            "         142       0.71      0.27      0.39        89\n",
            "         143       0.45      0.27      0.34        78\n",
            "         144       0.50      0.52      0.51       102\n",
            "         145       0.52      0.59      0.55        88\n",
            "         146       0.41      0.25      0.31        85\n",
            "         147       0.76      0.27      0.40       117\n",
            "         148       0.35      0.25      0.29        95\n",
            "         149       0.46      0.27      0.34        92\n",
            "         150       0.36      0.13      0.19        79\n",
            "         151       0.00      0.00      0.00        80\n",
            "         152       0.14      0.03      0.04       114\n",
            "         153       0.33      0.14      0.19        94\n",
            "         154       0.92      0.52      0.66       106\n",
            "         155       0.00      0.00      0.00        86\n",
            "         156       0.62      0.40      0.49        85\n",
            "         157       0.29      0.02      0.04       107\n",
            "         158       0.25      0.01      0.02        96\n",
            "         159       0.97      0.67      0.79        86\n",
            "         160       0.00      0.00      0.00        92\n",
            "         161       0.29      0.05      0.09        94\n",
            "         162       0.00      0.00      0.00        98\n",
            "         163       0.15      0.05      0.07        82\n",
            "         164       0.33      0.04      0.07        79\n",
            "         165       0.55      0.19      0.28        96\n",
            "         166       0.50      0.08      0.13        93\n",
            "         167       0.89      0.51      0.65        82\n",
            "         168       0.36      0.09      0.15        87\n",
            "         169       0.65      0.34      0.45        90\n",
            "         170       0.07      0.10      0.08        77\n",
            "         171       0.30      0.03      0.06        88\n",
            "         172       0.50      0.17      0.25        96\n",
            "         173       0.71      0.36      0.48        81\n",
            "         174       0.71      0.23      0.35        94\n",
            "         175       0.41      0.14      0.21        86\n",
            "         176       0.74      0.47      0.57        86\n",
            "         177       0.00      0.00      0.00        70\n",
            "         178       0.28      0.10      0.15        78\n",
            "         179       0.33      0.01      0.02        82\n",
            "         180       0.44      0.05      0.08        87\n",
            "         181       0.19      0.18      0.19        83\n",
            "         182       0.91      0.58      0.71        84\n",
            "         183       0.80      0.81      0.81        75\n",
            "         184       0.57      0.04      0.08        92\n",
            "         185       0.35      0.22      0.27        85\n",
            "         186       0.81      0.47      0.60        91\n",
            "         187       0.00      0.00      0.00        79\n",
            "         188       0.00      0.00      0.00        87\n",
            "         189       0.35      0.16      0.22        57\n",
            "         190       0.00      0.00      0.00        75\n",
            "         191       0.33      0.13      0.19        78\n",
            "         192       0.47      0.08      0.14        86\n",
            "         193       0.96      0.54      0.69        79\n",
            "         194       0.18      0.02      0.04        87\n",
            "         195       0.58      0.20      0.30        88\n",
            "         196       0.39      0.35      0.37        63\n",
            "         197       0.86      0.39      0.53        83\n",
            "         198       0.35      0.08      0.13        76\n",
            "         199       0.50      0.03      0.05        79\n",
            "         200       0.00      0.00      0.00        90\n",
            "         201       0.76      0.41      0.53        79\n",
            "         202       0.91      0.70      0.79        76\n",
            "         203       0.00      0.00      0.00        71\n",
            "         204       0.14      0.01      0.02        74\n",
            "         205       0.42      0.14      0.20        74\n",
            "         206       0.00      0.00      0.00        90\n",
            "         207       0.29      0.07      0.11        70\n",
            "         208       0.18      0.03      0.05        76\n",
            "         209       0.46      0.50      0.48        90\n",
            "         210       1.00      0.31      0.47        90\n",
            "         211       0.29      0.09      0.13        68\n",
            "         212       0.51      0.28      0.36        69\n",
            "         213       0.71      0.19      0.30        64\n",
            "         214       0.00      0.00      0.00        82\n",
            "         215       0.74      0.23      0.35        73\n",
            "         216       0.00      0.00      0.00        61\n",
            "         217       0.77      0.42      0.55        64\n",
            "         218       0.74      0.25      0.38        67\n",
            "         219       0.27      0.04      0.08        67\n",
            "         220       0.41      0.11      0.17        82\n",
            "         221       0.71      0.67      0.69        82\n",
            "         222       0.65      0.52      0.58        69\n",
            "         223       0.68      0.21      0.32        73\n",
            "         224       0.62      0.39      0.48        62\n",
            "         225       0.00      0.00      0.00        71\n",
            "         226       0.00      0.00      0.00        77\n",
            "         227       0.00      0.00      0.00        63\n",
            "         228       0.29      0.24      0.26        74\n",
            "         229       0.23      0.10      0.14        68\n",
            "         230       0.61      0.28      0.38        61\n",
            "         231       0.47      0.11      0.18        81\n",
            "         232       0.63      0.53      0.58        62\n",
            "         233       0.20      0.08      0.12        74\n",
            "         234       0.39      0.12      0.18        59\n",
            "         235       0.50      0.18      0.26        73\n",
            "         236       0.74      0.37      0.50        70\n",
            "         237       0.00      0.00      0.00        60\n",
            "         238       0.00      0.00      0.00        54\n",
            "         239       0.00      0.00      0.00        76\n",
            "         240       0.00      0.00      0.00        47\n",
            "         241       0.75      0.38      0.50        72\n",
            "         242       0.96      0.36      0.53        66\n",
            "         243       0.42      0.24      0.30        72\n",
            "         244       0.25      0.04      0.07        53\n",
            "         245       0.17      0.02      0.03        66\n",
            "         246       0.00      0.00      0.00        48\n",
            "         247       0.12      0.09      0.11        55\n",
            "         248       0.97      0.58      0.73        48\n",
            "         249       0.39      0.11      0.17        65\n",
            "         250       0.50      0.31      0.38        65\n",
            "         251       0.62      0.09      0.16        55\n",
            "         252       0.00      0.00      0.00        62\n",
            "         253       0.00      0.00      0.00        67\n",
            "         254       0.50      0.25      0.33        56\n",
            "         255       0.13      0.04      0.06        53\n",
            "         256       0.32      0.12      0.18        56\n",
            "         257       0.00      0.00      0.00        55\n",
            "         258       0.57      0.40      0.47        70\n",
            "         259       0.92      0.36      0.52        64\n",
            "         260       0.00      0.00      0.00        56\n",
            "         261       0.20      0.03      0.05        66\n",
            "         262       0.33      0.02      0.03        59\n",
            "         263       0.36      0.43      0.39        56\n",
            "         264       0.34      0.16      0.22        61\n",
            "         265       0.00      0.00      0.00        56\n",
            "         266       0.19      0.20      0.19        55\n",
            "         267       0.00      0.00      0.00        61\n",
            "         268       0.67      0.59      0.62        51\n",
            "         269       0.00      0.00      0.00        55\n",
            "         270       0.00      0.00      0.00        59\n",
            "         271       0.00      0.00      0.00        58\n",
            "         272       0.96      0.46      0.62        59\n",
            "         273       0.00      0.00      0.00        68\n",
            "         274       0.82      0.24      0.37        59\n",
            "         275       0.00      0.00      0.00        55\n",
            "         276       0.00      0.00      0.00        55\n",
            "         277       0.78      0.35      0.48        40\n",
            "         278       0.00      0.00      0.00        63\n",
            "         279       0.56      0.16      0.25        61\n",
            "         280       0.70      0.33      0.45        57\n",
            "         281       0.79      0.44      0.57        59\n",
            "         282       0.96      0.43      0.59        51\n",
            "         283       0.25      0.02      0.04        45\n",
            "         284       0.07      0.02      0.03        58\n",
            "         285       0.75      0.27      0.39        56\n",
            "         286       0.61      0.44      0.51        52\n",
            "         287       0.00      0.00      0.00        50\n",
            "         288       0.00      0.00      0.00        55\n",
            "         289       0.00      0.00      0.00        47\n",
            "         290       0.62      0.20      0.30        51\n",
            "         291       0.22      0.31      0.26        45\n",
            "         292       0.75      0.26      0.38        58\n",
            "         293       0.00      0.00      0.00        48\n",
            "         294       0.00      0.00      0.00        56\n",
            "         295       0.86      0.24      0.38        50\n",
            "         296       0.00      0.00      0.00        68\n",
            "         297       0.00      0.00      0.00        43\n",
            "         298       0.38      0.10      0.16        51\n",
            "         299       0.00      0.00      0.00        47\n",
            "         300       0.00      0.00      0.00        50\n",
            "         301       0.33      0.02      0.03        57\n",
            "         302       0.00      0.00      0.00        56\n",
            "         303       0.36      0.18      0.24        45\n",
            "         304       0.17      0.02      0.04        50\n",
            "         305       0.00      0.00      0.00        51\n",
            "         306       0.00      0.00      0.00        50\n",
            "         307       0.09      0.02      0.04        45\n",
            "         308       0.25      0.02      0.04        52\n",
            "         309       0.00      0.00      0.00        56\n",
            "         310       0.17      0.02      0.03        54\n",
            "         311       0.88      0.64      0.74        47\n",
            "         312       0.58      0.21      0.31        52\n",
            "         313       0.50      0.07      0.12        44\n",
            "         314       0.86      0.54      0.67        46\n",
            "         315       0.00      0.00      0.00        61\n",
            "         316       0.04      0.03      0.03        35\n",
            "         317       0.50      0.05      0.09        43\n",
            "         318       0.50      0.02      0.04        54\n",
            "         319       0.38      0.08      0.13        39\n",
            "         320       0.00      0.00      0.00        34\n",
            "         321       0.11      0.19      0.14        37\n",
            "         322       0.00      0.00      0.00        48\n",
            "         323       0.00      0.00      0.00        45\n",
            "         324       0.00      0.00      0.00        57\n",
            "         325       0.00      0.00      0.00        35\n",
            "         326       0.00      0.00      0.00        42\n",
            "         327       0.67      0.04      0.08        49\n",
            "         328       0.00      0.00      0.00        42\n",
            "         329       0.40      0.08      0.14        48\n",
            "         330       0.00      0.00      0.00        41\n",
            "         331       0.33      0.02      0.04        49\n",
            "         332       0.25      0.04      0.08        45\n",
            "         333       0.00      0.00      0.00        62\n",
            "         334       0.00      0.00      0.00        43\n",
            "         335       0.00      0.00      0.00        40\n",
            "         336       0.69      0.46      0.55        48\n",
            "         337       0.90      0.50      0.64        38\n",
            "         338       0.50      0.02      0.04        50\n",
            "         339       0.00      0.00      0.00        46\n",
            "         340       0.50      0.04      0.08        45\n",
            "         341       0.28      0.17      0.21        48\n",
            "         342       0.00      0.00      0.00        35\n",
            "         343       0.00      0.00      0.00        45\n",
            "         344       0.00      0.00      0.00        38\n",
            "         345       0.67      0.05      0.09        40\n",
            "         346       0.00      0.00      0.00        37\n",
            "         347       0.00      0.00      0.00        37\n",
            "         348       0.53      0.23      0.32        40\n",
            "         349       0.00      0.00      0.00        38\n",
            "         350       0.19      0.07      0.11        41\n",
            "         351       0.00      0.00      0.00        37\n",
            "         352       0.20      0.02      0.04        44\n",
            "         353       0.50      0.17      0.26        40\n",
            "         354       0.00      0.00      0.00        32\n",
            "         355       0.00      0.00      0.00        56\n",
            "         356       0.25      0.02      0.04        46\n",
            "         357       0.27      0.20      0.23        46\n",
            "         358       0.44      0.12      0.19        34\n",
            "         359       0.00      0.00      0.00        40\n",
            "         360       0.38      0.08      0.13        38\n",
            "         361       0.00      0.00      0.00        33\n",
            "         362       0.20      0.02      0.04        44\n",
            "         363       0.42      0.12      0.19        40\n",
            "         364       0.33      0.03      0.06        30\n",
            "         365       0.36      0.14      0.20        36\n",
            "         366       0.24      0.16      0.19        44\n",
            "         367       0.54      0.16      0.25        44\n",
            "         368       0.00      0.00      0.00        49\n",
            "         369       1.00      0.29      0.45        45\n",
            "         370       0.62      0.14      0.23        36\n",
            "         371       0.00      0.00      0.00        40\n",
            "         372       0.07      0.03      0.04        32\n",
            "         373       0.88      0.17      0.29        40\n",
            "         374       1.00      0.44      0.61        34\n",
            "         375       0.50      0.02      0.04        48\n",
            "         376       0.69      0.30      0.42        37\n",
            "         377       1.00      0.29      0.45        34\n",
            "         378       1.00      0.21      0.34        34\n",
            "         379       0.00      0.00      0.00        49\n",
            "         380       0.00      0.00      0.00        39\n",
            "         381       1.00      0.25      0.40        44\n",
            "         382       0.00      0.00      0.00        47\n",
            "         383       0.00      0.00      0.00        40\n",
            "         384       0.00      0.00      0.00        42\n",
            "         385       0.56      0.27      0.36        37\n",
            "         386       0.33      0.06      0.10        33\n",
            "         387       0.00      0.00      0.00        39\n",
            "         388       0.78      0.15      0.25        46\n",
            "         389       0.00      0.00      0.00        39\n",
            "         390       0.12      0.15      0.14        33\n",
            "         391       0.69      0.23      0.35        39\n",
            "         392       0.00      0.00      0.00        34\n",
            "         393       1.00      0.02      0.04        49\n",
            "         394       0.25      0.07      0.12        40\n",
            "         395       0.60      0.09      0.15        34\n",
            "         396       0.33      0.03      0.06        32\n",
            "         397       0.00      0.00      0.00        42\n",
            "         398       0.50      0.09      0.16        32\n",
            "         399       0.00      0.00      0.00        42\n",
            "         400       0.50      0.03      0.05        36\n",
            "         401       0.00      0.00      0.00        35\n",
            "         402       0.00      0.00      0.00        45\n",
            "         403       1.00      0.12      0.21        43\n",
            "         404       0.00      0.00      0.00        36\n",
            "         405       0.50      0.03      0.05        39\n",
            "         406       0.00      0.00      0.00        39\n",
            "         407       0.08      0.03      0.04        36\n",
            "         408       0.00      0.00      0.00        46\n",
            "         409       0.36      0.12      0.18        34\n",
            "         410       0.17      0.03      0.05        37\n",
            "         411       0.00      0.00      0.00        44\n",
            "         412       0.33      0.22      0.27        36\n",
            "         413       0.00      0.00      0.00        38\n",
            "         414       0.42      0.36      0.39        36\n",
            "         415       0.00      0.00      0.00        39\n",
            "         416       0.12      0.03      0.05        31\n",
            "         417       0.41      0.17      0.25        40\n",
            "         418       0.62      0.79      0.70        39\n",
            "         419       0.70      0.18      0.29        39\n",
            "         420       1.00      0.11      0.19        38\n",
            "         421       0.60      0.21      0.32        28\n",
            "         422       0.54      0.18      0.27        39\n",
            "         423       0.00      0.00      0.00        40\n",
            "         424       0.60      0.29      0.39        31\n",
            "         425       0.00      0.00      0.00        37\n",
            "         426       0.00      0.00      0.00        34\n",
            "         427       0.47      0.59      0.52        27\n",
            "         428       0.67      0.27      0.38        37\n",
            "         429       1.00      0.17      0.29        36\n",
            "         430       0.06      0.04      0.05        26\n",
            "         431       0.00      0.00      0.00        33\n",
            "         432       0.00      0.00      0.00        41\n",
            "         433       0.00      0.00      0.00        36\n",
            "         434       0.00      0.00      0.00        36\n",
            "         435       0.00      0.00      0.00        49\n",
            "         436       0.00      0.00      0.00        32\n",
            "         437       0.00      0.00      0.00        30\n",
            "         438       0.50      0.09      0.15        46\n",
            "         439       0.00      0.00      0.00        38\n",
            "         440       0.00      0.00      0.00        42\n",
            "         441       0.00      0.00      0.00        35\n",
            "         442       0.73      0.20      0.31        40\n",
            "         443       0.71      0.15      0.25        33\n",
            "         444       0.20      0.03      0.05        35\n",
            "         445       0.00      0.00      0.00        42\n",
            "         446       0.00      0.00      0.00        37\n",
            "         447       0.00      0.00      0.00        44\n",
            "         448       0.00      0.00      0.00        30\n",
            "         449       1.00      0.02      0.04        44\n",
            "         450       0.67      0.07      0.12        29\n",
            "         451       0.00      0.00      0.00        37\n",
            "         452       0.00      0.00      0.00        53\n",
            "         453       0.17      0.23      0.20        35\n",
            "         454       0.00      0.00      0.00        42\n",
            "         455       0.25      0.02      0.04        47\n",
            "         456       0.00      0.00      0.00        34\n",
            "         457       0.00      0.00      0.00        31\n",
            "         458       0.00      0.00      0.00        39\n",
            "         459       0.00      0.00      0.00        35\n",
            "         460       0.43      0.11      0.18        27\n",
            "         461       0.00      0.00      0.00        32\n",
            "         462       0.00      0.00      0.00        29\n",
            "         463       0.55      0.17      0.26        36\n",
            "         464       0.33      0.03      0.06        30\n",
            "         465       0.67      0.14      0.24        42\n",
            "         466       0.00      0.00      0.00        32\n",
            "         467       1.00      0.38      0.55        40\n",
            "         468       1.00      0.18      0.30        39\n",
            "         469       0.00      0.00      0.00        39\n",
            "         470       0.17      0.08      0.11        36\n",
            "         471       0.33      0.29      0.31        28\n",
            "         472       1.00      0.04      0.08        23\n",
            "         473       0.73      0.21      0.33        38\n",
            "         474       0.33      0.03      0.05        37\n",
            "         475       0.00      0.00      0.00        31\n",
            "         476       0.00      0.00      0.00        39\n",
            "         477       0.30      0.37      0.33        35\n",
            "         478       0.00      0.00      0.00        38\n",
            "         479       0.00      0.00      0.00        29\n",
            "         480       0.83      0.54      0.66        37\n",
            "         481       0.67      0.13      0.22        31\n",
            "         482       0.50      0.03      0.05        37\n",
            "         483       0.00      0.00      0.00        32\n",
            "         484       0.33      0.03      0.05        34\n",
            "         485       0.00      0.00      0.00        32\n",
            "         486       0.00      0.00      0.00        35\n",
            "         487       0.00      0.00      0.00        41\n",
            "         488       0.00      0.00      0.00        38\n",
            "         489       0.00      0.00      0.00        35\n",
            "         490       0.42      0.17      0.24        29\n",
            "         491       0.00      0.00      0.00        41\n",
            "         492       1.00      0.23      0.38        26\n",
            "         493       0.40      0.05      0.09        42\n",
            "         494       0.00      0.00      0.00        35\n",
            "         495       0.00      0.00      0.00        28\n",
            "         496       0.00      0.00      0.00        38\n",
            "         497       0.25      0.06      0.10        31\n",
            "         498       0.21      0.08      0.12        37\n",
            "         499       0.71      0.30      0.43        33\n",
            "\n",
            "   micro avg       0.65      0.26      0.38     72288\n",
            "   macro avg       0.38      0.17      0.21     72288\n",
            "weighted avg       0.54      0.26      0.34     72288\n",
            " samples avg       0.36      0.26      0.28     72288\n",
            "\n",
            "Time taken to run this cell : 0:05:50.412257\n"
          ],
          "name": "stdout"
        }
      ]
    },
    {
      "cell_type": "markdown",
      "metadata": {
        "id": "R6uDv9Dwoyzv",
        "colab_type": "text"
      },
      "source": [
        "### Linear SVM with OneVsRestClassifier (With Hinge loss):"
      ]
    },
    {
      "cell_type": "code",
      "metadata": {
        "id": "9OwlZX9Xoyzw",
        "colab_type": "code",
        "colab": {},
        "outputId": "218c1ea2-89ce-43a9-dacf-c5e63cbe3f51"
      },
      "source": [
        "param={'estimator__alpha': [10**-4, 10**-3, 10**-2, 10**-1, 10**0, 10**1]}\n",
        "classifier = OneVsRestClassifier(SGDClassifier( loss='hinge', penalty='l1'))\n",
        "model = GridSearchCV(estimator = classifier, param_grid=param,  verbose=0, scoring='f1_micro',n_jobs=-1)\n",
        "model.fit(x_train_multilabel, y_train)\n",
        "\n",
        "best_alpha = model.best_estimator_.get_params()['estimator__alpha']\n",
        "print('value of alpha after hyperparameter tuning : ',best_alpha)"
      ],
      "execution_count": 0,
      "outputs": [
        {
          "output_type": "stream",
          "text": [
            "value of alpha after hyperparameter tuning :  0.0001\n"
          ],
          "name": "stdout"
        }
      ]
    },
    {
      "cell_type": "code",
      "metadata": {
        "id": "CFMNuS3foyzy",
        "colab_type": "code",
        "colab": {},
        "outputId": "d1503e38-8e29-4fbf-8a8e-c06663005071"
      },
      "source": [
        "start = datetime.now()\n",
        "classifier = OneVsRestClassifier(SGDClassifier(loss='hinge', alpha=0.001, penalty='l1'), n_jobs=-1)\n",
        "classifier.fit(x_train_multilabel, y_train)\n",
        "predictions = classifier.predict (x_test_multilabel)\n",
        "\n",
        "\n",
        "\n",
        "print(\"Accuracy :\",metrics.accuracy_score(y_test, predictions))\n",
        "print(\"Hamming loss \",metrics.hamming_loss(y_test,predictions))\n",
        "\n",
        "\n",
        "precision = precision_score(y_test, predictions, average='micro')\n",
        "recall = recall_score(y_test, predictions, average='micro')\n",
        "f1 = f1_score(y_test, predictions, average='micro')\n",
        " \n",
        "print(\"Micro-average quality numbers\")\n",
        "print(\"Precision: {:.4f}, Recall: {:.4f}, F1-measure: {:.4f}\".format(precision, recall, f1))\n",
        "\n",
        "precision = precision_score(y_test, predictions, average='macro')\n",
        "recall = recall_score(y_test, predictions, average='macro')\n",
        "f1 = f1_score(y_test, predictions, average='macro')\n",
        " \n",
        "print(\"Macro-average quality numbers\")\n",
        "print(\"Precision: {:.4f}, Recall: {:.4f}, F1-measure: {:.4f}\".format(precision, recall, f1))\n",
        "\n",
        "print (metrics.classification_report(y_test, predictions))\n",
        "print(\"Time taken to run this cell :\", datetime.now() - start)"
      ],
      "execution_count": 0,
      "outputs": [
        {
          "output_type": "stream",
          "text": [
            "Accuracy : 0.1864\n",
            "Hamming loss  0.0031211\n",
            "Micro-average quality numbers\n",
            "Precision: 0.6730, Recall: 0.2655, F1-measure: 0.3807\n",
            "Macro-average quality numbers\n",
            "Precision: 0.2653, Recall: 0.1681, F1-measure: 0.1909\n",
            "              precision    recall  f1-score   support\n",
            "\n",
            "           0       0.30      0.00      0.01      3162\n",
            "           1       0.79      0.28      0.41      2785\n",
            "           2       0.73      0.60      0.66      2692\n",
            "           3       0.70      0.46      0.55      2655\n",
            "           4       0.92      0.67      0.78      2176\n",
            "           5       0.84      0.62      0.71      2204\n",
            "           6       0.73      0.13      0.22      1318\n",
            "           7       0.85      0.65      0.74      1252\n",
            "           8       0.73      0.42      0.54      1203\n",
            "           9       0.76      0.67      0.71      1236\n",
            "          10       0.73      0.39      0.51      1181\n",
            "          11       0.00      0.00      0.00      1212\n",
            "          12       0.00      0.00      0.00      1105\n",
            "          13       0.48      0.13      0.21       928\n",
            "          14       0.09      0.00      0.00       959\n",
            "          15       0.73      0.49      0.59       963\n",
            "          16       0.74      0.15      0.25       923\n",
            "          17       0.75      0.57      0.65       813\n",
            "          18       0.63      0.17      0.27       783\n",
            "          19       0.00      0.00      0.00       659\n",
            "          20       0.00      0.00      0.00       584\n",
            "          21       0.56      0.43      0.48       489\n",
            "          22       0.54      0.23      0.32       480\n",
            "          23       0.64      0.25      0.36       442\n",
            "          24       0.85      0.62      0.71       431\n",
            "          25       0.50      0.00      0.00       424\n",
            "          26       0.00      0.00      0.00       416\n",
            "          27       0.66      0.36      0.46       408\n",
            "          28       0.76      0.70      0.73       400\n",
            "          29       0.88      0.90      0.89       365\n",
            "          30       0.68      0.23      0.34       342\n",
            "          31       0.00      0.00      0.00       340\n",
            "          32       0.74      0.48      0.58       303\n",
            "          33       0.67      0.40      0.50       316\n",
            "          34       0.67      0.02      0.04       317\n",
            "          35       0.75      0.59      0.66       322\n",
            "          36       0.06      0.00      0.01       296\n",
            "          37       0.31      0.03      0.05       286\n",
            "          38       0.65      0.65      0.65       297\n",
            "          39       0.52      0.20      0.29       247\n",
            "          40       0.10      0.14      0.12       242\n",
            "          41       0.74      0.12      0.21       254\n",
            "          42       0.00      0.00      0.00       230\n",
            "          43       0.00      0.00      0.00       223\n",
            "          44       0.00      0.00      0.00       231\n",
            "          45       0.58      0.11      0.19       275\n",
            "          46       0.00      0.00      0.00       242\n",
            "          47       0.00      0.00      0.00       228\n",
            "          48       0.52      0.58      0.55       214\n",
            "          49       0.00      0.00      0.00       218\n",
            "          50       0.00      0.00      0.00       233\n",
            "          51       0.00      0.00      0.00       194\n",
            "          52       0.66      0.47      0.55       213\n",
            "          53       0.00      0.00      0.00       210\n",
            "          54       0.50      0.61      0.55       198\n",
            "          55       0.60      0.41      0.49       204\n",
            "          56       0.94      0.08      0.14       213\n",
            "          57       0.00      0.00      0.00       213\n",
            "          58       0.78      0.80      0.79       193\n",
            "          59       0.00      0.00      0.00       214\n",
            "          60       0.80      0.71      0.75       196\n",
            "          61       0.00      0.00      0.00       180\n",
            "          62       0.00      0.00      0.00       209\n",
            "          63       0.61      0.57      0.59       189\n",
            "          64       0.78      0.73      0.75       200\n",
            "          65       0.75      0.33      0.46       196\n",
            "          66       0.00      0.00      0.00       162\n",
            "          67       0.69      0.27      0.39       169\n",
            "          68       0.23      0.03      0.05       184\n",
            "          69       0.63      0.57      0.60       189\n",
            "          70       0.74      0.72      0.73       155\n",
            "          71       0.75      0.50      0.60       173\n",
            "          72       0.71      0.42      0.53       170\n",
            "          73       0.55      0.03      0.06       182\n",
            "          74       0.00      0.00      0.00       183\n",
            "          75       0.71      0.15      0.25       159\n",
            "          76       0.87      0.11      0.20       176\n",
            "          77       0.26      0.24      0.25       164\n",
            "          78       0.04      0.06      0.05       163\n",
            "          79       0.00      0.00      0.00       176\n",
            "          80       0.94      0.53      0.68       172\n",
            "          81       0.34      0.28      0.31       181\n",
            "          82       0.44      0.07      0.13       148\n",
            "          83       0.61      0.34      0.44       151\n",
            "          84       0.42      0.24      0.30       139\n",
            "          85       0.00      0.00      0.00       137\n",
            "          86       0.75      0.28      0.41       143\n",
            "          87       0.72      0.49      0.58       153\n",
            "          88       0.79      0.66      0.72       159\n",
            "          89       0.71      0.09      0.15       138\n",
            "          90       0.73      0.75      0.74       138\n",
            "          91       0.00      0.00      0.00       112\n",
            "          92       0.64      0.70      0.67       128\n",
            "          93       0.77      0.81      0.79       134\n",
            "          94       0.35      0.35      0.35       132\n",
            "          95       0.64      0.42      0.51       128\n",
            "          96       0.43      0.33      0.37       113\n",
            "          97       0.84      0.62      0.71       113\n",
            "          98       0.00      0.00      0.00       117\n",
            "          99       0.00      0.00      0.00       141\n",
            "         100       0.00      0.00      0.00       116\n",
            "         101       0.00      0.00      0.00       125\n",
            "         102       0.00      0.00      0.00       120\n",
            "         103       0.00      0.00      0.00       122\n",
            "         104       0.00      0.00      0.00       130\n",
            "         105       0.86      0.48      0.61       124\n",
            "         106       0.37      0.45      0.40       119\n",
            "         107       0.27      0.07      0.11       106\n",
            "         108       0.72      0.34      0.46       123\n",
            "         109       0.74      0.16      0.26       129\n",
            "         110       0.56      0.59      0.57       122\n",
            "         111       0.00      0.00      0.00       112\n",
            "         112       0.00      0.00      0.00       120\n",
            "         113       0.56      0.15      0.24       125\n",
            "         114       0.46      0.29      0.36       113\n",
            "         115       0.57      0.31      0.40       113\n",
            "         116       0.00      0.00      0.00       119\n",
            "         117       0.00      0.00      0.00       100\n",
            "         118       0.00      0.00      0.00       105\n",
            "         119       0.00      0.00      0.00       102\n",
            "         120       0.55      0.63      0.59       113\n",
            "         121       0.80      0.51      0.62       120\n",
            "         122       0.00      0.00      0.00       115\n",
            "         123       0.19      0.03      0.05       114\n",
            "         124       0.00      0.00      0.00        97\n",
            "         125       0.00      0.00      0.00       102\n",
            "         126       0.88      0.92      0.90       100\n",
            "         127       0.54      0.17      0.25       115\n",
            "         128       0.68      0.51      0.58        93\n",
            "         129       0.82      0.57      0.67       104\n",
            "         130       0.83      0.72      0.77        98\n",
            "         131       0.00      0.00      0.00        95\n",
            "         132       0.00      0.00      0.00       110\n",
            "         133       0.00      0.00      0.00        99\n",
            "         134       0.42      0.11      0.17        95\n",
            "         135       0.00      0.00      0.00        85\n",
            "         136       0.00      0.00      0.00        99\n",
            "         137       0.88      0.64      0.74       103\n",
            "         138       0.00      0.00      0.00        81\n",
            "         139       0.00      0.00      0.00       112\n",
            "         140       0.00      0.00      0.00       101\n",
            "         141       0.00      0.00      0.00        86\n",
            "         142       0.66      0.24      0.35        89\n",
            "         143       0.50      0.41      0.45        78\n",
            "         144       0.47      0.43      0.45       102\n",
            "         145       0.56      0.39      0.46        88\n",
            "         146       0.00      0.00      0.00        85\n",
            "         147       0.68      0.36      0.47       117\n",
            "         148       0.00      0.00      0.00        95\n",
            "         149       0.30      0.41      0.35        92\n",
            "         150       0.34      0.30      0.32        79\n",
            "         151       0.00      0.00      0.00        80\n",
            "         152       0.00      0.00      0.00       114\n",
            "         153       0.00      0.00      0.00        94\n",
            "         154       0.92      0.65      0.76       106\n",
            "         155       0.00      0.00      0.00        86\n",
            "         156       0.41      0.40      0.41        85\n",
            "         157       0.00      0.00      0.00       107\n",
            "         158       0.00      0.00      0.00        96\n",
            "         159       0.85      0.72      0.78        86\n",
            "         160       0.00      0.00      0.00        92\n",
            "         161       0.00      0.00      0.00        94\n",
            "         162       0.00      0.00      0.00        98\n",
            "         163       0.00      0.00      0.00        82\n",
            "         164       0.17      0.09      0.12        79\n",
            "         165       0.83      0.05      0.10        96\n",
            "         166       0.21      0.03      0.06        93\n",
            "         167       0.83      0.70      0.75        82\n",
            "         168       0.00      0.00      0.00        87\n",
            "         169       0.38      0.28      0.32        90\n",
            "         170       0.00      0.00      0.00        77\n",
            "         171       0.00      0.00      0.00        88\n",
            "         172       0.00      0.00      0.00        96\n",
            "         173       0.65      0.32      0.43        81\n",
            "         174       0.62      0.48      0.54        94\n",
            "         175       0.00      0.00      0.00        86\n",
            "         176       0.68      0.63      0.65        86\n",
            "         177       0.00      0.00      0.00        70\n",
            "         178       0.00      0.00      0.00        78\n",
            "         179       0.00      0.00      0.00        82\n",
            "         180       0.00      0.00      0.00        87\n",
            "         181       0.00      0.00      0.00        83\n",
            "         182       0.78      0.67      0.72        84\n",
            "         183       0.71      0.61      0.66        75\n",
            "         184       0.50      0.04      0.08        92\n",
            "         185       0.00      0.00      0.00        85\n",
            "         186       0.84      0.54      0.66        91\n",
            "         187       0.44      0.05      0.09        79\n",
            "         188       0.00      0.00      0.00        87\n",
            "         189       0.00      0.00      0.00        57\n",
            "         190       0.39      0.16      0.23        75\n",
            "         191       0.00      0.00      0.00        78\n",
            "         192       0.00      0.00      0.00        86\n",
            "         193       0.94      0.78      0.86        79\n",
            "         194       0.00      0.00      0.00        87\n",
            "         195       0.52      0.43      0.47        88\n",
            "         196       0.63      0.30      0.41        63\n",
            "         197       0.88      0.59      0.71        83\n",
            "         198       0.00      0.00      0.00        76\n",
            "         199       0.00      0.00      0.00        79\n",
            "         200       0.00      0.00      0.00        90\n",
            "         201       0.64      0.41      0.50        79\n",
            "         202       0.85      0.82      0.83        76\n",
            "         203       0.00      0.00      0.00        71\n",
            "         204       0.00      0.00      0.00        74\n",
            "         205       0.00      0.00      0.00        74\n",
            "         206       0.68      0.29      0.41        90\n",
            "         207       0.24      0.16      0.19        70\n",
            "         208       0.00      0.00      0.00        76\n",
            "         209       0.46      0.28      0.35        90\n",
            "         210       0.89      0.38      0.53        90\n",
            "         211       0.08      0.09      0.09        68\n",
            "         212       1.00      0.01      0.03        69\n",
            "         213       0.48      0.36      0.41        64\n",
            "         214       0.00      0.00      0.00        82\n",
            "         215       0.73      0.33      0.45        73\n",
            "         216       0.00      0.00      0.00        61\n",
            "         217       0.70      0.55      0.61        64\n",
            "         218       0.00      0.00      0.00        67\n",
            "         219       0.00      0.00      0.00        67\n",
            "         220       0.42      0.23      0.30        82\n",
            "         221       0.88      0.62      0.73        82\n",
            "         222       0.50      0.74      0.59        69\n",
            "         223       0.59      0.37      0.45        73\n",
            "         224       0.48      0.65      0.55        62\n",
            "         225       0.00      0.00      0.00        71\n",
            "         226       0.00      0.00      0.00        77\n",
            "         227       0.00      0.00      0.00        63\n",
            "         228       0.00      0.00      0.00        74\n",
            "         229       0.00      0.00      0.00        68\n",
            "         230       0.57      0.56      0.56        61\n",
            "         231       0.45      0.27      0.34        81\n",
            "         232       0.56      0.73      0.63        62\n",
            "         233       0.00      0.00      0.00        74\n",
            "         234       0.00      0.00      0.00        59\n",
            "         235       0.74      0.44      0.55        73\n",
            "         236       0.65      0.44      0.53        70\n",
            "         237       0.00      0.00      0.00        60\n",
            "         238       0.00      0.00      0.00        54\n",
            "         239       0.00      0.00      0.00        76\n",
            "         240       0.00      0.00      0.00        47\n",
            "         241       0.60      0.81      0.69        72\n",
            "         242       0.89      0.38      0.53        66\n",
            "         243       0.34      0.32      0.33        72\n",
            "         244       0.00      0.00      0.00        53\n",
            "         245       0.23      0.29      0.26        66\n",
            "         246       0.00      0.00      0.00        48\n",
            "         247       0.00      0.00      0.00        55\n",
            "         248       0.89      0.69      0.78        48\n",
            "         249       0.00      0.00      0.00        65\n",
            "         250       0.42      0.29      0.35        65\n",
            "         251       0.50      0.16      0.25        55\n",
            "         252       0.00      0.00      0.00        62\n",
            "         253       0.00      0.00      0.00        67\n",
            "         254       0.33      0.48      0.39        56\n",
            "         255       0.00      0.00      0.00        53\n",
            "         256       0.00      0.00      0.00        56\n",
            "         257       0.00      0.00      0.00        55\n",
            "         258       0.00      0.00      0.00        70\n",
            "         259       0.85      0.44      0.58        64\n",
            "         260       0.00      0.00      0.00        56\n",
            "         261       0.00      0.00      0.00        66\n",
            "         262       0.00      0.00      0.00        59\n",
            "         263       0.56      0.09      0.15        56\n",
            "         264       0.45      0.08      0.14        61\n",
            "         265       0.00      0.00      0.00        56\n",
            "         266       0.00      0.00      0.00        55\n",
            "         267       0.00      0.00      0.00        61\n",
            "         268       0.51      0.69      0.58        51\n",
            "         269       0.00      0.00      0.00        55\n",
            "         270       0.00      0.00      0.00        59\n",
            "         271       0.00      0.00      0.00        58\n",
            "         272       0.72      0.61      0.66        59\n",
            "         273       0.00      0.00      0.00        68\n",
            "         274       0.76      0.32      0.45        59\n",
            "         275       0.00      0.00      0.00        55\n",
            "         276       0.00      0.00      0.00        55\n",
            "         277       0.75      0.75      0.75        40\n",
            "         278       0.00      0.00      0.00        63\n",
            "         279       0.44      0.18      0.26        61\n",
            "         280       1.00      0.02      0.03        57\n",
            "         281       0.53      0.49      0.51        59\n",
            "         282       0.85      0.78      0.82        51\n",
            "         283       0.00      0.00      0.00        45\n",
            "         284       0.00      0.00      0.00        58\n",
            "         285       0.68      0.70      0.69        56\n",
            "         286       0.39      0.31      0.34        52\n",
            "         287       0.00      0.00      0.00        50\n",
            "         288       0.00      0.00      0.00        55\n",
            "         289       0.00      0.00      0.00        47\n",
            "         290       0.50      0.04      0.07        51\n",
            "         291       0.71      0.27      0.39        45\n",
            "         292       0.57      0.60      0.59        58\n",
            "         293       0.00      0.00      0.00        48\n",
            "         294       0.00      0.00      0.00        56\n",
            "         295       0.48      0.40      0.43        50\n",
            "         296       0.00      0.00      0.00        68\n",
            "         297       0.00      0.00      0.00        43\n",
            "         298       0.00      0.00      0.00        51\n",
            "         299       0.00      0.00      0.00        47\n",
            "         300       0.00      0.00      0.00        50\n",
            "         301       0.00      0.00      0.00        57\n",
            "         302       0.00      0.00      0.00        56\n",
            "         303       0.00      0.00      0.00        45\n",
            "         304       0.00      0.00      0.00        50\n",
            "         305       0.00      0.00      0.00        51\n",
            "         306       0.00      0.00      0.00        50\n",
            "         307       0.00      0.00      0.00        45\n",
            "         308       0.00      0.00      0.00        52\n",
            "         309       0.00      0.00      0.00        56\n",
            "         310       0.37      0.30      0.33        54\n",
            "         311       0.80      0.77      0.78        47\n",
            "         312       0.00      0.00      0.00        52\n",
            "         313       0.00      0.00      0.00        44\n",
            "         314       0.75      0.52      0.62        46\n",
            "         315       0.43      0.30      0.35        61\n",
            "         316       0.26      0.23      0.24        35\n",
            "         317       0.00      0.00      0.00        43\n",
            "         318       0.00      0.00      0.00        54\n",
            "         319       0.00      0.00      0.00        39\n",
            "         320       0.00      0.00      0.00        34\n",
            "         321       0.86      0.16      0.27        37\n",
            "         322       0.00      0.00      0.00        48\n",
            "         323       0.00      0.00      0.00        45\n",
            "         324       0.00      0.00      0.00        57\n",
            "         325       0.00      0.00      0.00        35\n",
            "         326       0.00      0.00      0.00        42\n",
            "         327       0.60      0.12      0.20        49\n",
            "         328       0.00      0.00      0.00        42\n",
            "         329       0.22      0.25      0.23        48\n",
            "         330       0.00      0.00      0.00        41\n",
            "         331       0.00      0.00      0.00        49\n",
            "         332       0.00      0.00      0.00        45\n",
            "         333       0.00      0.00      0.00        62\n",
            "         334       0.00      0.00      0.00        43\n",
            "         335       0.00      0.00      0.00        40\n",
            "         336       0.00      0.00      0.00        48\n",
            "         337       0.88      0.58      0.70        38\n",
            "         338       0.00      0.00      0.00        50\n",
            "         339       0.00      0.00      0.00        46\n",
            "         340       0.00      0.00      0.00        45\n",
            "         341       0.00      0.00      0.00        48\n",
            "         342       0.00      0.00      0.00        35\n",
            "         343       0.00      0.00      0.00        45\n",
            "         344       0.00      0.00      0.00        38\n",
            "         345       0.00      0.00      0.00        40\n",
            "         346       0.00      0.00      0.00        37\n",
            "         347       0.00      0.00      0.00        37\n",
            "         348       0.40      0.10      0.16        40\n",
            "         349       0.00      0.00      0.00        38\n",
            "         350       0.00      0.00      0.00        41\n",
            "         351       0.00      0.00      0.00        37\n",
            "         352       0.38      0.11      0.18        44\n",
            "         353       0.00      0.00      0.00        40\n",
            "         354       0.00      0.00      0.00        32\n",
            "         355       0.00      0.00      0.00        56\n",
            "         356       0.00      0.00      0.00        46\n",
            "         357       0.51      0.39      0.44        46\n",
            "         358       0.00      0.00      0.00        34\n",
            "         359       0.00      0.00      0.00        40\n",
            "         360       0.38      0.16      0.22        38\n",
            "         361       0.00      0.00      0.00        33\n",
            "         362       0.00      0.00      0.00        44\n",
            "         363       0.32      0.28      0.30        40\n",
            "         364       0.50      0.03      0.06        30\n",
            "         365       0.26      0.17      0.20        36\n",
            "         366       0.00      0.00      0.00        44\n",
            "         367       0.00      0.00      0.00        44\n",
            "         368       0.00      0.00      0.00        49\n",
            "         369       0.75      0.27      0.39        45\n",
            "         370       0.00      0.00      0.00        36\n",
            "         371       0.00      0.00      0.00        40\n",
            "         372       0.00      0.00      0.00        32\n",
            "         373       0.42      0.45      0.43        40\n",
            "         374       0.95      0.62      0.75        34\n",
            "         375       0.00      0.00      0.00        48\n",
            "         376       0.38      0.16      0.23        37\n",
            "         377       0.88      0.44      0.59        34\n",
            "         378       0.57      0.12      0.20        34\n",
            "         379       0.00      0.00      0.00        49\n",
            "         380       0.36      0.10      0.16        39\n",
            "         381       0.51      0.45      0.48        44\n",
            "         382       0.00      0.00      0.00        47\n",
            "         383       0.00      0.00      0.00        40\n",
            "         384       0.00      0.00      0.00        42\n",
            "         385       0.61      0.46      0.52        37\n",
            "         386       0.37      0.30      0.33        33\n",
            "         387       0.00      0.00      0.00        39\n",
            "         388       0.45      0.30      0.36        46\n",
            "         389       0.00      0.00      0.00        39\n",
            "         390       0.00      0.00      0.00        33\n",
            "         391       0.31      0.46      0.37        39\n",
            "         392       0.00      0.00      0.00        34\n",
            "         393       0.00      0.00      0.00        49\n",
            "         394       0.00      0.00      0.00        40\n",
            "         395       0.60      0.09      0.15        34\n",
            "         396       0.00      0.00      0.00        32\n",
            "         397       0.00      0.00      0.00        42\n",
            "         398       0.38      0.28      0.32        32\n",
            "         399       0.00      0.00      0.00        42\n",
            "         400       0.00      0.00      0.00        36\n",
            "         401       0.00      0.00      0.00        35\n",
            "         402       0.00      0.00      0.00        45\n",
            "         403       0.90      0.21      0.34        43\n",
            "         404       0.00      0.00      0.00        36\n",
            "         405       0.00      0.00      0.00        39\n",
            "         406       0.00      0.00      0.00        39\n",
            "         407       0.00      0.00      0.00        36\n",
            "         408       0.00      0.00      0.00        46\n",
            "         409       0.00      0.00      0.00        34\n",
            "         410       0.00      0.00      0.00        37\n",
            "         411       0.00      0.00      0.00        44\n",
            "         412       0.00      0.00      0.00        36\n",
            "         413       0.00      0.00      0.00        38\n",
            "         414       0.00      0.00      0.00        36\n",
            "         415       0.00      0.00      0.00        39\n",
            "         416       0.00      0.00      0.00        31\n",
            "         417       0.00      0.00      0.00        40\n",
            "         418       0.60      0.77      0.67        39\n",
            "         419       0.67      0.10      0.18        39\n",
            "         420       0.71      0.58      0.64        38\n",
            "         421       0.82      0.32      0.46        28\n",
            "         422       0.37      0.72      0.49        39\n",
            "         423       0.00      0.00      0.00        40\n",
            "         424       0.56      0.48      0.52        31\n",
            "         425       0.33      0.05      0.09        37\n",
            "         426       0.00      0.00      0.00        34\n",
            "         427       0.00      0.00      0.00        27\n",
            "         428       0.43      0.27      0.33        37\n",
            "         429       1.00      0.44      0.62        36\n",
            "         430       0.00      0.00      0.00        26\n",
            "         431       0.00      0.00      0.00        33\n",
            "         432       0.00      0.00      0.00        41\n",
            "         433       0.00      0.00      0.00        36\n",
            "         434       0.90      0.50      0.64        36\n",
            "         435       0.00      0.00      0.00        49\n",
            "         436       0.00      0.00      0.00        32\n",
            "         437       0.00      0.00      0.00        30\n",
            "         438       0.00      0.00      0.00        46\n",
            "         439       0.00      0.00      0.00        38\n",
            "         440       0.00      0.00      0.00        42\n",
            "         441       0.00      0.00      0.00        35\n",
            "         442       0.52      0.33      0.40        40\n",
            "         443       0.00      0.00      0.00        33\n",
            "         444       0.00      0.00      0.00        35\n",
            "         445       0.00      0.00      0.00        42\n",
            "         446       0.00      0.00      0.00        37\n",
            "         447       0.00      0.00      0.00        44\n",
            "         448       0.00      0.00      0.00        30\n",
            "         449       0.00      0.00      0.00        44\n",
            "         450       0.00      0.00      0.00        29\n",
            "         451       0.00      0.00      0.00        37\n",
            "         452       0.00      0.00      0.00        53\n",
            "         453       0.00      0.00      0.00        35\n",
            "         454       0.00      0.00      0.00        42\n",
            "         455       0.00      0.00      0.00        47\n",
            "         456       0.00      0.00      0.00        34\n",
            "         457       0.00      0.00      0.00        31\n",
            "         458       0.00      0.00      0.00        39\n",
            "         459       0.00      0.00      0.00        35\n",
            "         460       0.00      0.00      0.00        27\n",
            "         461       0.85      0.34      0.49        32\n",
            "         462       0.00      0.00      0.00        29\n",
            "         463       0.45      0.75      0.56        36\n",
            "         464       0.00      0.00      0.00        30\n",
            "         465       0.43      0.55      0.48        42\n",
            "         466       0.00      0.00      0.00        32\n",
            "         467       0.96      0.57      0.72        40\n",
            "         468       0.91      0.51      0.66        39\n",
            "         469       0.00      0.00      0.00        39\n",
            "         470       0.00      0.00      0.00        36\n",
            "         471       0.00      0.00      0.00        28\n",
            "         472       0.00      0.00      0.00        23\n",
            "         473       0.00      0.00      0.00        38\n",
            "         474       0.00      0.00      0.00        37\n",
            "         475       0.00      0.00      0.00        31\n",
            "         476       0.00      0.00      0.00        39\n",
            "         477       0.00      0.00      0.00        35\n",
            "         478       0.00      0.00      0.00        38\n",
            "         479       0.00      0.00      0.00        29\n",
            "         480       0.76      0.78      0.77        37\n",
            "         481       0.00      0.00      0.00        31\n",
            "         482       0.50      0.14      0.21        37\n",
            "         483       0.00      0.00      0.00        32\n",
            "         484       0.00      0.00      0.00        34\n",
            "         485       0.00      0.00      0.00        32\n",
            "         486       0.01      0.03      0.01        35\n",
            "         487       0.00      0.00      0.00        41\n",
            "         488       0.00      0.00      0.00        38\n",
            "         489       0.00      0.00      0.00        35\n",
            "         490       0.50      0.03      0.06        29\n",
            "         491       0.00      0.00      0.00        41\n",
            "         492       0.65      0.50      0.57        26\n",
            "         493       0.00      0.00      0.00        42\n",
            "         494       0.00      0.00      0.00        35\n",
            "         495       0.00      0.00      0.00        28\n",
            "         496       0.00      0.00      0.00        38\n",
            "         497       0.00      0.00      0.00        31\n",
            "         498       0.08      0.11      0.09        37\n",
            "         499       0.83      0.15      0.26        33\n",
            "\n",
            "   micro avg       0.67      0.27      0.38     72288\n",
            "   macro avg       0.27      0.17      0.19     72288\n",
            "weighted avg       0.45      0.27      0.31     72288\n",
            " samples avg       0.37      0.26      0.29     72288\n",
            "\n",
            "Time taken to run this cell : 0:04:55.624137\n"
          ],
          "name": "stdout"
        }
      ]
    },
    {
      "cell_type": "markdown",
      "metadata": {
        "id": "5rNuPi72oyzz",
        "colab_type": "text"
      },
      "source": [
        "## Conclusion:"
      ]
    },
    {
      "cell_type": "code",
      "metadata": {
        "id": "cPg-pY5eoyz0",
        "colab_type": "code",
        "colab": {},
        "outputId": "984cc238-70e0-43d2-9479-2f71bac0d603"
      },
      "source": [
        "# Creating table using PrettyTable library\n",
        "from prettytable import PrettyTable\n",
        "\n",
        "x = PrettyTable(['Model','Accuracy','Precision','Recall',\"F1-measure\",'Hamming Loss'])\n",
        "\n",
        "x.add_row(['Logistic Regression','0.18','37.92','16.73','21.48','0.0031'])\n",
        "\n",
        "x.add_row(['Linear SVM','0.18','26.53','16.81','19.09','0.0031'])\n",
        "print(x)"
      ],
      "execution_count": 0,
      "outputs": [
        {
          "output_type": "stream",
          "text": [
            "+---------------------+----------+-----------+--------+------------+--------------+\n",
            "|        Model        | Accuracy | Precision | Recall | F1-measure | Hamming Loss |\n",
            "+---------------------+----------+-----------+--------+------------+--------------+\n",
            "| Logistic Regression |   0.18   |   37.92   | 16.73  |   21.48    |    0.0031    |\n",
            "|      Linear SVM     |   0.18   |   26.53   | 16.81  |   19.09    |    0.0031    |\n",
            "+---------------------+----------+-----------+--------+------------+--------------+\n"
          ],
          "name": "stdout"
        }
      ]
    },
    {
      "cell_type": "markdown",
      "metadata": {
        "id": "poElePEKoyz2",
        "colab_type": "text"
      },
      "source": [
        "1.Before applying Machine learning model we took 500 tags and 0.2 M data points as it covered 90 of the questions ."
      ]
    },
    {
      "cell_type": "markdown",
      "metadata": {
        "id": "e5dypEJzoyz2",
        "colab_type": "text"
      },
      "source": [
        "2.we have taken linear models i.e logistic regression and linear svm because they works very well with high dimension data, so  here we have use tfidf featurization for these models."
      ]
    },
    {
      "cell_type": "markdown",
      "metadata": {
        "id": "lTg23qSQoyz2",
        "colab_type": "text"
      },
      "source": [
        "3.As we observed the  time taken by our simple linear model which are very fast as compare to other models here, i.e they also take decent much amount of time."
      ]
    },
    {
      "cell_type": "markdown",
      "metadata": {
        "id": "B_lB5jwvoyz3",
        "colab_type": "text"
      },
      "source": [
        "4.As a result after comparising accuracy, macro and micro f1-score ,hamming loss we found that our logistic Regression Model is quite better as compared to Linear SVM model."
      ]
    },
    {
      "cell_type": "code",
      "metadata": {
        "id": "k7TznU6Koyz4",
        "colab_type": "code",
        "colab": {}
      },
      "source": [
        ""
      ],
      "execution_count": 0,
      "outputs": []
    }
  ]
}